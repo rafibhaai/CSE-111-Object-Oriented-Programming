{
  "nbformat": 4,
  "nbformat_minor": 0,
  "metadata": {
    "colab": {
      "provenance": []
    },
    "kernelspec": {
      "name": "python3",
      "display_name": "Python 3"
    },
    "language_info": {
      "name": "python"
    }
  },
  "cells": [
    {
      "cell_type": "code",
      "execution_count": null,
      "metadata": {
        "colab": {
          "base_uri": "https://localhost:8080/"
        },
        "id": "b-ztmD4u2sTL",
        "outputId": "2e082eb3-1bfd-4b92-c0e2-c265204c2248"
      },
      "outputs": [
        {
          "output_type": "stream",
          "name": "stdout",
          "text": [
            "Name: default Department: BBA\n",
            "Name: Humpty Dumpty Department: BBA\n",
            "Name: Little Bo Peep Department: BBA\n"
          ]
        }
      ],
      "source": [
        "#1\n",
        "class Student:\n",
        "    def __init__(self, name='Just a student', dept='nothing'):\n",
        "        self.__name = name\n",
        "        self.__department = dept\n",
        "    def set_department(self, dept):\n",
        "        self.__department = dept\n",
        "    def get_name(self):\n",
        "        return self.__name\n",
        "    def set_name(self,name):\n",
        "        self.__name = name\n",
        "    def __str__(self):\n",
        "        return 'Name: '+self.__name+' Department: '+self.__department\n",
        "\n",
        "class BBA_Student(Student):\n",
        "  def __init__(self,name='default',dept='BBA'):\n",
        "    super().__init__(name,dept)\n",
        "\n",
        "print(BBA_Student())\n",
        "print(BBA_Student('Humpty Dumpty'))\n",
        "print(BBA_Student('Little Bo Peep'))"
      ]
    },
    {
      "cell_type": "code",
      "source": [
        "#2\n",
        "class Vehicle:\n",
        "    def __init__(self):\n",
        "        self.x = 0\n",
        "        self.y = 0\n",
        "    def moveUp(self):\n",
        "        self.y+=1\n",
        "    def moveDown(self):\n",
        "        self.y-=1\n",
        "    def moveRight(self):\n",
        "        self.x+=1\n",
        "    def moveLeft(self):\n",
        "        self.x-=1\n",
        "    def __str__(self):\n",
        "        return '('+str(self.x)+' , '+str(self.y)+')'\n",
        "\n",
        "class Vehicle2010(Vehicle):\n",
        "\n",
        "\n",
        "\n",
        "  def moveLowerLeft(self):\n",
        "    super().moveLeft()\n",
        "    super().moveDown()\n",
        "\n",
        "  def moveUpperRight(self):\n",
        "    super().moveRight()\n",
        "    super().moveUp()\n",
        "\n",
        "  def moveUpperLeft(self):\n",
        "    super().moveLeft()\n",
        "    super().moveUp()\n",
        "\n",
        "  def moveLowerRight(self):\n",
        "    super().moveDown()\n",
        "    super().moveRight()\n",
        "\n",
        "  def equals(self,other):\n",
        "    if self.x==other.x and self.y==other.y:\n",
        "      return True\n",
        "    else:\n",
        "      return False\n",
        "\n",
        "\n",
        "\n",
        "print('Part 1')\n",
        "print('------')\n",
        "car = Vehicle()\n",
        "print(car)\n",
        "car.moveUp()\n",
        "print(car)\n",
        "car.moveLeft()\n",
        "print(car)\n",
        "car.moveDown()\n",
        "print(car)\n",
        "car.moveRight()\n",
        "print(car)\n",
        "print('------')\n",
        "print('Part 2')\n",
        "print('------')\n",
        "car1 = Vehicle2010()\n",
        "print(car1) #(0,0)\n",
        "car1.moveLowerLeft()\n",
        "print(car1) #(-1,-1)\n",
        "car2 = Vehicle2010()#(0,0)\n",
        "car2.moveLeft() #(-1,0)\n",
        "print(car1.equals(car2))\n",
        "car2.moveDown()\n",
        "print(car1.equals(car2))\n",
        "\n",
        "\n",
        "\n",
        "\n"
      ],
      "metadata": {
        "colab": {
          "base_uri": "https://localhost:8080/"
        },
        "id": "_-wU_PXB37DJ",
        "outputId": "3a52af72-cb9c-4c43-c6ff-b0ce8eca5a94"
      },
      "execution_count": null,
      "outputs": [
        {
          "output_type": "stream",
          "name": "stdout",
          "text": [
            "Part 1\n",
            "------\n",
            "(0 , 0)\n",
            "(0 , 1)\n",
            "(-1 , 1)\n",
            "(-1 , 0)\n",
            "(0 , 0)\n",
            "------\n",
            "Part 2\n",
            "------\n",
            "(0 , 0)\n",
            "(-1 , -1)\n",
            "False\n",
            "True\n"
          ]
        }
      ]
    },
    {
      "cell_type": "code",
      "source": [
        "#3\n",
        "class Tournament:\n",
        "    def __init__(self,name='Default'):\n",
        "        self.__name = name\n",
        "    def set_name(self,name):\n",
        "        self.__name = name\n",
        "    def get_name(self):\n",
        "        return self.__name\n",
        "\n",
        "class Cricket_Tournament(Tournament):\n",
        "  def __init__(self,name='Default',num_team=0,type1='No type'):\n",
        "    super().__init__(name)\n",
        "\n",
        "    self.num=num_team\n",
        "    self.type1=type1\n",
        "\n",
        "  def detail(self):\n",
        "    name=super().get_name()\n",
        "    print(f'Cricket Tournament Name: {name}')\n",
        "    print(f'Number of Teams: {self.num}')\n",
        "    return f'Type: {self.type1}'\n",
        "\n",
        "class Tennis_Tournament(Tournament):\n",
        "  def __init__(self,name,num_player):\n",
        "    super().__init__(name)\n",
        "\n",
        "    self.num_player=num_player\n",
        "\n",
        "  def detail(self):\n",
        "    name=super().get_name()\n",
        "    print(f'Tennis Tournament Name: {name}')\n",
        "    return f'Number of Players: {self.num_player}'\n",
        "\n",
        "\n",
        "ct1 = Cricket_Tournament()\n",
        "print(ct1.detail())\n",
        "print(\"-----------------------\")\n",
        "ct2 = Cricket_Tournament(\"IPL\",10,\"t20\")\n",
        "print(ct2.detail())\n",
        "print(\"-----------------------\")\n",
        "tt = Tennis_Tournament(\"Roland Garros\",128)\n",
        "print(tt.detail())\n",
        "\n",
        "\n",
        "\n",
        "\n",
        "\n"
      ],
      "metadata": {
        "colab": {
          "base_uri": "https://localhost:8080/"
        },
        "id": "iqTaYQD78JgH",
        "outputId": "7f1cf901-51fd-48d6-b016-90ed5d72d4d2"
      },
      "execution_count": null,
      "outputs": [
        {
          "output_type": "stream",
          "name": "stdout",
          "text": [
            "Cricket Tournament Name: Default\n",
            "Number of Teams: 0\n",
            "Type: No type\n",
            "-----------------------\n",
            "Cricket Tournament Name: IPL\n",
            "Number of Teams: 10\n",
            "Type: t20\n",
            "-----------------------\n",
            "Tennis Tournament Name: Roland Garros\n",
            "Number of Players: 128\n"
          ]
        }
      ]
    },
    {
      "cell_type": "code",
      "source": [
        "#4\n",
        "class Product:\n",
        "    def __init__(self,id, title, price):\n",
        "        self.__id = id\n",
        "        self.__title = title\n",
        "        self.__price = price\n",
        "    def get_id_title_price(self):\n",
        "        return \"ID: \"+str(self.__id)+\" Title:\"+self.__title+\"Price: \"+str(self.__price)\n",
        "\n",
        "class Book(Product):\n",
        "  def __init__(self,id,title,price,isbn,publisher):\n",
        "    super().__init__(id,title,price)\n",
        "    self.isbn=isbn\n",
        "    self.publisher=publisher\n",
        "\n",
        "  def printDetail(self):\n",
        "    name=super().get_id_title_price()\n",
        "    print(name)\n",
        "    return f'ISBN: {self.isbn}\\nPublisher: {self.publisher}'\n",
        "\n",
        "class CD(Product):\n",
        "  def __init__(self,id,title,price,brand,duration,genre):\n",
        "    super().__init__(id,title,price)\n",
        "    self.brand=brand\n",
        "    self.duration=duration\n",
        "    self.genre=genre\n",
        "\n",
        "  def printDetail(self):\n",
        "    name=super().get_id_title_price()\n",
        "    print(name)\n",
        "    return f'Band: {self.brand}\\nDuration: {self.duration}\\nGenre:{self.genre}'\n",
        "\n",
        "book = Book(1,\"The Alchemist\",500,\"97806\",\"HarperCollins\")\n",
        "print(book.printDetail())\n",
        "print(\"-----------------------\")\n",
        "cd = CD(2,\"Shotto\",300,\"Warfaze\",50,\"Hard Rock\")\n",
        "print(cd.printDetail())\n",
        "\n",
        "\n",
        "\n"
      ],
      "metadata": {
        "colab": {
          "base_uri": "https://localhost:8080/"
        },
        "id": "PDRfluU2Ivbs",
        "outputId": "28ac0f95-8ea3-4ac5-a38d-f624cc125948"
      },
      "execution_count": null,
      "outputs": [
        {
          "output_type": "stream",
          "name": "stdout",
          "text": [
            "ID: 1 Title:The AlchemistPrice: 500\n",
            "ISBN: 97806\n",
            "Publisher: HarperCollins\n",
            "-----------------------\n",
            "ID: 2 Title:ShottoPrice: 300\n",
            "Band: Warfaze\n",
            "Duration: 50\n",
            "Genre:Hard Rock\n"
          ]
        }
      ]
    },
    {
      "cell_type": "code",
      "source": [
        "#5\n",
        "class Animal:\n",
        "    def __init__(self,sound):\n",
        "        self.__sound = sound\n",
        "\n",
        "    def makeSound(self):\n",
        "        return self.__sound\n",
        "\n",
        "\n",
        "\n",
        "class Printer:\n",
        "    def printSound(self, a):\n",
        "        print(a.makeSound())\n",
        "\n",
        "\n",
        "\n",
        "\n",
        "class Dog(Animal):\n",
        "  def __init__(self,sound):\n",
        "    super().__init__(sound)\n",
        "\n",
        "class Cat(Animal):\n",
        "  def __init__(self,sound):\n",
        "    super().__init__(sound)\n",
        "\n",
        "d1 = Dog('bark')\n",
        "c1 = Cat('meow')\n",
        "a1 = Animal('Animal does not make sound')\n",
        "pr = Printer()\n",
        "pr.printSound(a1)\n",
        "pr.printSound(c1)\n",
        "pr.printSound(d1)\n",
        "\n"
      ],
      "metadata": {
        "colab": {
          "base_uri": "https://localhost:8080/"
        },
        "id": "0qPlseOhNvX-",
        "outputId": "0ae03a58-abcf-42be-d195-2ff685e89f9c"
      },
      "execution_count": null,
      "outputs": [
        {
          "output_type": "stream",
          "name": "stdout",
          "text": [
            "Animal does not make sound\n",
            "meow\n",
            "bark\n"
          ]
        }
      ]
    },
    {
      "cell_type": "code",
      "source": [
        "#6\n",
        "class Shape:\n",
        "\n",
        "  def __init__(self, name='Default', height=0, base=0):\n",
        "    self.area = 0\n",
        "    self.name = name\n",
        "    self.height = height\n",
        "    self.base = base\n",
        "\n",
        "  def get_height_base(self):\n",
        "    return \"Height: \"+str(self.height)+\",Base: \"+str(self.base)\n",
        "\n",
        "class triangle(Shape):\n",
        "  def __init__(self,name='Default',height=0,base=0):\n",
        "    super().__init__(name,height,base)\n",
        "\n",
        "  def calcArea(self):\n",
        "    area=.5*self.base*self.height\n",
        "    self.area=area\n",
        "\n",
        "  def printDetail(self):\n",
        "    name=super().get_height_base()\n",
        "    print(f'Shape name: {self.name}')\n",
        "    print(name)\n",
        "    return f'Area: {self.area}'\n",
        "\n",
        "class trapezoid(Shape):\n",
        "  def __init__(self,name,height,base,side):\n",
        "    super().__init__(name,height,base)\n",
        "    self.side=side\n",
        "\n",
        "  def calcArea(self):\n",
        "    area=.5*(self.base+self.side)*self.height\n",
        "\n",
        "  def printDetail(self):\n",
        "    name=super().get_height_base()\n",
        "    print(f'Shape name: {self.name}')\n",
        "    print(name)\n",
        "    return f'Area: {self.area}'\n",
        "\n",
        "tri_default = triangle()\n",
        "tri_default.calcArea()\n",
        "print(tri_default.printDetail())\n",
        "print('--------------------------')\n",
        "tri = triangle('Triangle', 10, 5)\n",
        "tri.calcArea()\n",
        "print(tri.printDetail())\n",
        "print('---------------------------')\n",
        "trap = trapezoid('Trapezoid', 10, 6, 4)\n",
        "trap.calcArea()\n",
        "print(trap.printDetail())\n",
        "\n"
      ],
      "metadata": {
        "colab": {
          "base_uri": "https://localhost:8080/"
        },
        "id": "Gg2zl2KYO_yl",
        "outputId": "bf118d46-26f6-43c7-a563-3f1546a17f83"
      },
      "execution_count": null,
      "outputs": [
        {
          "output_type": "stream",
          "name": "stdout",
          "text": [
            "Shape name: Default\n",
            "Height: 0,Base: 0\n",
            "Area: 0.0\n",
            "--------------------------\n",
            "Shape name: Triangle\n",
            "Height: 10,Base: 5\n",
            "Area: 25.0\n",
            "---------------------------\n",
            "Shape name: Trapezoid\n",
            "Height: 10,Base: 6\n",
            "Area: 0\n"
          ]
        }
      ]
    },
    {
      "cell_type": "code",
      "source": [
        "#7\n",
        "class SportsPerson:\n",
        "\n",
        "  def __init__(self, team_name, name, role):\n",
        "    self.__team = team_name\n",
        "    self.__name = name\n",
        "    self.role = role\n",
        "    self.earning_per_match = 0\n",
        "\n",
        "  def get_name_team(self):\n",
        "    return 'Name: '+self.__name+', Team Name: ' +self.__team\n",
        "\n",
        "class Player(SportsPerson):\n",
        "  def __init__(self,team_name,name,role,goals,total_played):\n",
        "    super().__init__(team_name,name,role)\n",
        "    self.goals=goals\n",
        "    self.total_played=total_played\n",
        "\n",
        "  def calculate_ratio(self):\n",
        "    self.ratio=self.goals/self.total_played\n",
        "\n",
        "  def print_details(self):\n",
        "    info=super().get_name_team()\n",
        "    print(f'Team Role: {self.role}')\n",
        "    print(f'Total Goal: {self.goals}, Total Played: {self.total_played}')\n",
        "    print(f'{self.ratio}')\n",
        "    earning=(self.goals * 1000) + (self.total_played * 10)\n",
        "    print(f'Match Earning: {earning}K')\n",
        "\n",
        "class Manager(SportsPerson):\n",
        "  def __init__(self,team_name,name,role,total_win):\n",
        "    super().__init__(team_name,name,role)\n",
        "    self.total_win=total_win\n",
        "\n",
        "  def print_details(self):\n",
        "    info=super().get_name_team()\n",
        "    print(f'Team Role: {self.role}')\n",
        "    print(f'Total Win: {self.total_win}')\n",
        "    earning= self.total_win * 1000\n",
        "    print(f'Match Earning: {earning}K')\n",
        "\n",
        "\n",
        "player_one = Player('Juventus', 'Ronaldo', 'Striker', 25, 32)\n",
        "player_one.calculate_ratio()\n",
        "player_one.print_details()\n",
        "print('------------------------------------------')\n",
        "manager_one = Manager('Real Madrid', 'Zidane', 'Manager', 25)\n",
        "manager_one.print_details()\n",
        "\n",
        "\n",
        "\n"
      ],
      "metadata": {
        "colab": {
          "base_uri": "https://localhost:8080/"
        },
        "id": "60Ierj_ZQAby",
        "outputId": "d19e488c-7a9b-47f6-bfe4-8e0e34f2aafb"
      },
      "execution_count": null,
      "outputs": [
        {
          "output_type": "stream",
          "name": "stdout",
          "text": [
            "Team Role: Striker\n",
            "Total Goal: 25, Total Played: 32\n",
            "0.78125\n",
            "Match Earning: 25320K\n",
            "------------------------------------------\n",
            "Team Role: Manager\n",
            "Total Win: 25\n",
            "Match Earning: 25000K\n"
          ]
        }
      ]
    }
  ]
}