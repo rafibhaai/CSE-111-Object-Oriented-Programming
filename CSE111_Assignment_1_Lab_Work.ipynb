{
  "nbformat": 4,
  "nbformat_minor": 0,
  "metadata": {
    "colab": {
      "provenance": []
    },
    "kernelspec": {
      "name": "python3",
      "display_name": "Python 3"
    },
    "language_info": {
      "name": "python"
    }
  },
  "cells": [
    {
      "cell_type": "code",
      "execution_count": null,
      "metadata": {
        "colab": {
          "base_uri": "https://localhost:8080/"
        },
        "id": "MGsVHt3TcRcm",
        "outputId": "d8607112-3704-4b46-e1b1-7cce00d82616"
      },
      "outputs": [
        {
          "output_type": "stream",
          "name": "stdout",
          "text": [
            "HOUSE\n",
            "apple\n",
            "banana\n"
          ]
        }
      ],
      "source": [
        "#String\n",
        "#1\n",
        "def string(s):\n",
        "  count1=0\n",
        "  count2=0\n",
        "  for i in s:\n",
        "    if 65<=ord(i)<=90:\n",
        "      count1+=1\n",
        "    elif 97<=ord(i)<=122:\n",
        "      count2+=1\n",
        "\n",
        "  if count1>count2:\n",
        "    print(s.upper())\n",
        "  else:\n",
        "    print(s.lower())\n",
        "\n",
        "string('HOusE')\n",
        "string('ApplE')\n",
        "string('BaNaNa')\n",
        "\n"
      ]
    },
    {
      "cell_type": "code",
      "source": [
        "#2\n",
        "def type1(s):\n",
        "  mix = 0\n",
        "  num=0\n",
        "  word=0\n",
        "  for i in s:\n",
        "\n",
        "    if 48<=ord(i)<=57:\n",
        "      num+=1\n",
        "    elif 65<=ord(i)<=90 or 97<=ord(i)<=122:\n",
        "      word+=1\n",
        "\n",
        "  if num>0 and word>0:\n",
        "    print('Mixed')\n",
        "  elif num>0:\n",
        "    print('Numbers')\n",
        "  else:\n",
        "    print('Words')\n",
        "\n",
        "\n",
        "type1('213213')\n",
        "type1('jhg231j213')\n",
        "type1('Hello')\n"
      ],
      "metadata": {
        "colab": {
          "base_uri": "https://localhost:8080/"
        },
        "id": "RmqcO5g6fJXG",
        "outputId": "4851bdb7-b812-4e57-87c0-2d40f43bcf7e"
      },
      "execution_count": null,
      "outputs": [
        {
          "output_type": "stream",
          "name": "stdout",
          "text": [
            "Numbers\n",
            "Mixed\n",
            "Words\n"
          ]
        }
      ]
    },
    {
      "cell_type": "code",
      "source": [
        "#3\n",
        "def find_substring(s):\n",
        "\n",
        "  for i in s:\n",
        "    if 65<=ord(i)<=90:\n",
        "      idx=s.find(i)\n",
        "      s1=s.replace(i,i.lower())\n",
        "      break\n",
        "  for j in s1:\n",
        "    if 65<=ord(j)<=90:\n",
        "      idx2=s1.index(j)\n",
        "      break\n",
        "  sum=s[idx+1:idx2]\n",
        "\n",
        "  if sum!=\"\":\n",
        "    print(s[idx+1:idx2])\n",
        "  else:\n",
        "    print('Blank')\n",
        "\n",
        "\n",
        "\n",
        "\n",
        "find_substring('baNgladEsh')\n",
        "find_substring('coDIng')\n",
        "\n",
        "\n"
      ],
      "metadata": {
        "colab": {
          "base_uri": "https://localhost:8080/"
        },
        "id": "ZK1--_ZbnPEm",
        "outputId": "6a151d7c-1a13-4da2-b100-d2b441d12ad4"
      },
      "execution_count": null,
      "outputs": [
        {
          "output_type": "stream",
          "name": "stdout",
          "text": [
            "glad\n",
            "Blank\n"
          ]
        }
      ]
    },
    {
      "cell_type": "code",
      "source": [
        "#4\n",
        "def add_common(s1,s2):\n",
        "  str1=\"\"\n",
        "  for i in s1:\n",
        "    if i in s2:\n",
        "      str1+=i\n",
        "  for j in s2:\n",
        "    if j in s1:\n",
        "      str1+=j\n",
        "\n",
        "  if str1!=\"\":\n",
        "    print(str1)\n",
        "  else:\n",
        "    print('Nothing in common')\n",
        "\n",
        "\n",
        "\n",
        "\n",
        "\n",
        "add_common('harry', 'hermione')\n",
        "add_common('dean', 'tom')\n",
        "\n",
        "\n",
        "\n"
      ],
      "metadata": {
        "colab": {
          "base_uri": "https://localhost:8080/"
        },
        "id": "gNoMX8XkrWol",
        "outputId": "cca0cb41-71a6-4361-8b01-34a8d9c20bef"
      },
      "execution_count": null,
      "outputs": [
        {
          "output_type": "stream",
          "name": "stdout",
          "text": [
            "hrrhr\n",
            "Nothing in common\n"
          ]
        }
      ]
    },
    {
      "cell_type": "code",
      "source": [
        "#5\n",
        "def check_password(s):\n",
        "  s1=\"\"\n",
        "  special='$#@'\n",
        "  special_count=0\n",
        "  upper_count=0\n",
        "  lower_count=0\n",
        "  digit_count=0\n",
        "  for i in s:\n",
        "    if i in special:\n",
        "      special_count+=1\n",
        "    elif 65<=ord(i)<=90:\n",
        "      upper_count+=1\n",
        "    elif 97<=ord(i)<=122:\n",
        "      lower_count+=1\n",
        "    else:\n",
        "      digit_count+=1\n",
        "\n",
        "  if special_count==0:\n",
        "    s1+='Special charcter missing, '\n",
        "  if upper_count==0:\n",
        "    s1+='Uppercase character missing, '\n",
        "  if lower_count==0:\n",
        "    s1+='Lowercase Character missing, '\n",
        "  if digit_count==0:\n",
        "    s1+='digits missing'\n",
        "  if s1!='':\n",
        "   print(s1)\n",
        "\n",
        "\n",
        "  if special_count>0 and upper_count>0 and lower_count>0 and digit_count>0:\n",
        "    print('Ok')\n",
        "\n",
        "check_password('ohMyBR@CU')\n",
        "check_password('ohmybracu')\n",
        "check_password('OhMyBR@CU20')\n",
        "\n",
        "\n",
        "\n"
      ],
      "metadata": {
        "colab": {
          "base_uri": "https://localhost:8080/"
        },
        "id": "BnjcOL96uX57",
        "outputId": "10089d96-d7a1-4ba0-b2bd-aa746ea7f06c"
      },
      "execution_count": null,
      "outputs": [
        {
          "output_type": "stream",
          "name": "stdout",
          "text": [
            "digits missing\n",
            "Special charcter missing, Uppercase character missing, digits missing\n",
            "Ok\n"
          ]
        }
      ]
    },
    {
      "cell_type": "markdown",
      "source": [
        "List"
      ],
      "metadata": {
        "id": "uRWN6Wji0uI3"
      }
    },
    {
      "cell_type": "code",
      "source": [
        "#1\n",
        "lst_1=[]\n",
        "lst_2=[]\n",
        "#count=0\n",
        "while True:\n",
        "  n=input('Enter numbers: ')\n",
        "  if n=='STOP':\n",
        "    break\n",
        "  else:\n",
        "    lst_1.append(int(n))\n",
        "\n",
        "  for i in lst_1:\n",
        "    if i not in lst_2:\n",
        "      lst_2.append(i)\n",
        "\n",
        "  for item in lst_2:\n",
        "    count=0\n",
        "    for i in lst_1:\n",
        "      if item==i:\n",
        "        count+=1\n",
        "    print(item,'-',count, 'times')\n",
        "\n",
        "\n",
        "\n",
        "\n",
        "\n",
        "\n",
        "\n",
        "\n",
        "\n",
        "\n",
        "\n",
        "\n",
        "\n",
        "\n"
      ],
      "metadata": {
        "colab": {
          "base_uri": "https://localhost:8080/"
        },
        "id": "LnbEg_rz0qH5",
        "outputId": "21133665-d2d1-485a-fb97-3151d6dbb799"
      },
      "execution_count": null,
      "outputs": [
        {
          "name": "stdout",
          "output_type": "stream",
          "text": [
            "Enter numbers: 10\n",
            "10 - 1 times\n",
            "Enter numbers: 20\n",
            "10 - 1 times\n",
            "20 - 1 times\n",
            "Enter numbers: 20\n",
            "10 - 1 times\n",
            "20 - 2 times\n",
            "Enter numbers: 10\n",
            "10 - 2 times\n",
            "20 - 2 times\n",
            "Enter numbers: 50\n",
            "10 - 2 times\n",
            "20 - 2 times\n",
            "50 - 1 times\n",
            "Enter numbers: 90\n",
            "10 - 2 times\n",
            "20 - 2 times\n",
            "50 - 1 times\n",
            "90 - 1 times\n",
            "Enter numbers: STOP\n"
          ]
        }
      ]
    },
    {
      "cell_type": "code",
      "source": [
        "#2\n",
        "n=int(input())\n",
        "s=0\n",
        "sum=0\n",
        "lst=[]\n",
        "for i in range(n):\n",
        "  l=[int(j) for j in input().split()]\n",
        "  for k in l:\n",
        "    sum+=k\n",
        "  if s<sum:\n",
        "    s=sum\n",
        "    lst=l\n",
        "  sum=0\n",
        "print(s)\n",
        "print(lst)\n",
        "\n",
        "\n",
        "\n",
        "\n",
        "\n",
        "\n",
        "\n"
      ],
      "metadata": {
        "id": "H8EA38qYIui0",
        "colab": {
          "base_uri": "https://localhost:8080/"
        },
        "outputId": "91a05e2f-5103-49ff-a7c7-f3cb3088489c"
      },
      "execution_count": null,
      "outputs": [
        {
          "output_type": "stream",
          "name": "stdout",
          "text": [
            "4\n",
            "1 2 3\n",
            "4 5 6 \n",
            "7 8 9\n",
            "10 11 12 13\n",
            "46\n",
            "[10, 11, 12, 13]\n"
          ]
        }
      ]
    },
    {
      "cell_type": "code",
      "source": [],
      "metadata": {
        "id": "edxyF6VcaIQj"
      },
      "execution_count": null,
      "outputs": []
    },
    {
      "cell_type": "code",
      "source": [
        "#4\n"
      ],
      "metadata": {
        "id": "Ub7M-XZw59j-"
      },
      "execution_count": null,
      "outputs": []
    },
    {
      "cell_type": "markdown",
      "source": [
        "Dictionary & Tuple"
      ],
      "metadata": {
        "id": "j8c5_p_G6nGS"
      }
    },
    {
      "cell_type": "code",
      "source": [
        "#1\n",
        "def combine_dict(d1,d2):\n",
        "  lst=[]\n",
        "  d3={}\n",
        "  for key in d1:\n",
        "    if key in d2:\n",
        "      new=d1[key]+d2[key]\n",
        "    else:\n",
        "      new=d1[key]\n",
        "    d3[key]=new\n",
        "\n",
        "  for j,l in d2.items():\n",
        "    if j not in d1:\n",
        "      d3[j]=l\n",
        "  print(d3)\n",
        "\n",
        "  for i in d3.values():\n",
        "    lst.append(i)\n",
        "  print(tuple(lst))\n",
        "\n",
        "\n",
        "\n",
        "\n",
        "\n",
        "\n",
        "\n",
        "result1={'a': 100, 'b': 100, 'c': 200, 'd': 300}\n",
        "result2={'a': 300, 'b': 200, 'd': 400, 'e': 200}\n",
        "combine_dict(result1,result2)\n",
        "\n",
        "\n"
      ],
      "metadata": {
        "id": "DwANaFwo6sJD",
        "colab": {
          "base_uri": "https://localhost:8080/"
        },
        "outputId": "bd365fd0-0165-4106-ca8c-ab0b087c871c"
      },
      "execution_count": null,
      "outputs": [
        {
          "output_type": "stream",
          "name": "stdout",
          "text": [
            "{'a': 400, 'b': 300, 'c': 200, 'd': 700, 'e': 200}\n",
            "(400, 300, 200, 700, 200)\n"
          ]
        }
      ]
    },
    {
      "cell_type": "code",
      "source": [
        "#2\n",
        "lst=[]\n",
        "while True:\n",
        "  n=input('Enter numbers and break when STOP given: ')\n",
        "  if n=='STOP':\n",
        "    break\n",
        "  else:\n",
        "    lst.append(int(n))\n",
        "\n",
        "  d={}\n",
        "  lst1=[]\n",
        "  for i in lst:\n",
        "    if i not in lst1:\n",
        "      lst1.append(i)\n",
        "\n",
        "  for j in lst1:\n",
        "    count=0\n",
        "    for j1 in lst:\n",
        "      if j==j1:\n",
        "        count+=1\n",
        "    d[j]=count\n",
        "\n",
        "  for key,value in d.items():\n",
        "    print(key,'-',value,'times')\n",
        "\n",
        "\n",
        "\n"
      ],
      "metadata": {
        "colab": {
          "base_uri": "https://localhost:8080/"
        },
        "id": "7LpNifZGIj17",
        "outputId": "0a6834b8-4519-49fa-c871-ed9730e44cdf"
      },
      "execution_count": null,
      "outputs": [
        {
          "name": "stdout",
          "output_type": "stream",
          "text": [
            "Enter numbers and break when STOP given: 10\n",
            "10 - 1 times\n",
            "Enter numbers and break when STOP given: 20\n",
            "10 - 1 times\n",
            "20 - 1 times\n",
            "Enter numbers and break when STOP given: 20\n",
            "10 - 1 times\n",
            "20 - 2 times\n",
            "Enter numbers and break when STOP given: 30\n",
            "10 - 1 times\n",
            "20 - 2 times\n",
            "30 - 1 times\n",
            "Enter numbers and break when STOP given: 10\n",
            "10 - 2 times\n",
            "20 - 2 times\n",
            "30 - 1 times\n",
            "Enter numbers and break when STOP given: 50\n",
            "10 - 2 times\n",
            "20 - 2 times\n",
            "30 - 1 times\n",
            "50 - 1 times\n",
            "Enter numbers and break when STOP given: 90\n",
            "10 - 2 times\n",
            "20 - 2 times\n",
            "30 - 1 times\n",
            "50 - 1 times\n",
            "90 - 1 times\n",
            "Enter numbers and break when STOP given: STOP\n"
          ]
        }
      ]
    },
    {
      "cell_type": "code",
      "source": [
        "#3\n",
        "d={}\n",
        "lst=[]\n",
        "for key,value in d.items():\n",
        "   if key in d:\n",
        "     d[value]=key"
      ],
      "metadata": {
        "id": "3fJZ0kD8r2j-"
      },
      "execution_count": null,
      "outputs": []
    },
    {
      "cell_type": "code",
      "source": [
        "#4\n",
        "d={1:'.,?!',2:'ABC',3:'DEF',4:'GHI',5:'JKL',6:'MNO',7:'PQRS',8:'TUV',9:'WXYZ',0:' '}\n"
      ],
      "metadata": {
        "colab": {
          "base_uri": "https://localhost:8080/"
        },
        "id": "sLBqj6BYJWRT",
        "outputId": "bc9a57a5-a6ab-4c58-9ab0-fe63515f05aa"
      },
      "execution_count": null,
      "outputs": [
        {
          "output_type": "stream",
          "name": "stdout",
          "text": [
            ".\n"
          ]
        }
      ]
    }
  ]
}