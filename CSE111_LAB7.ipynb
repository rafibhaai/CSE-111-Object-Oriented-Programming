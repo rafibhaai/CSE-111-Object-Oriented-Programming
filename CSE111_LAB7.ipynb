{
  "nbformat": 4,
  "nbformat_minor": 0,
  "metadata": {
    "colab": {
      "provenance": []
    },
    "kernelspec": {
      "name": "python3",
      "display_name": "Python 3"
    },
    "language_info": {
      "name": "python"
    }
  },
  "cells": [
    {
      "cell_type": "code",
      "source": [
        "#task1\n",
        "class Student:\n",
        "    def __init__(self, name=\"Just a student\", dept=\"nothing\"):\n",
        "        self.__name = name\n",
        "        self.__department = dept\n",
        "\n",
        "    def set_department(self, dept):\n",
        "        self.__department = dept\n",
        "\n",
        "    def get_name(self):\n",
        "        return self.__name\n",
        "\n",
        "    def set_name(self, name):\n",
        "        self.__name = name\n",
        "\n",
        "    def __str__(self):\n",
        "        return \"Name: \" + self.__name + \" Department: \" + self.__department\n",
        "\n",
        "\n",
        "class BBA_Student(Student):\n",
        "    def __init__(self, name=\"default\", dept=\"BBA\"):\n",
        "        super().__init__(name, dept)\n",
        "\n",
        "\n",
        "print(BBA_Student())\n",
        "print(BBA_Student(\"Humpty Dumpty\"))\n",
        "print(BBA_Student(\"Little Bo Peep\"))"
      ],
      "metadata": {
        "colab": {
          "base_uri": "https://localhost:8080/"
        },
        "id": "TTIFJojuGtY5",
        "outputId": "fcbbf200-6937-4cd8-d434-4422f8879beb"
      },
      "execution_count": null,
      "outputs": [
        {
          "output_type": "stream",
          "name": "stdout",
          "text": [
            "Name: default Department: BBA\n",
            "Name: Humpty Dumpty Department: BBA\n",
            "Name: Little Bo Peep Department: BBA\n"
          ]
        }
      ]
    },
    {
      "cell_type": "code",
      "source": [
        "#task2\n",
        "class Vehicle:\n",
        "    def __init__(self):\n",
        "        self.x = 0\n",
        "        self.y = 0\n",
        "\n",
        "    def moveUp(self):\n",
        "        self.y += 1\n",
        "\n",
        "    def moveDown(self):\n",
        "        self.y -= 1\n",
        "\n",
        "    def moveRight(self):\n",
        "        self.x += 1\n",
        "\n",
        "    def moveLeft(self):\n",
        "        self.x -= 1\n",
        "\n",
        "    def __str__(self):\n",
        "        return \"(\" + str(self.x) + \" , \" + str(self.y) + \")\"\n",
        "\n",
        "\n",
        "class Vehicle2010(Vehicle):\n",
        "    def moveUpperRight(self):\n",
        "        super().moveUp()\n",
        "        super().moveRight()\n",
        "\n",
        "    def moveUpperLeft(self):\n",
        "        super().moveUp()\n",
        "        super().moveLeft()\n",
        "\n",
        "\n",
        "    def moveLowerRigth(self):\n",
        "        super().moveDown()\n",
        "        super().moveRight()\n",
        "\n",
        "    def moveLowerLeft(self):\n",
        "        super().moveDown()\n",
        "        super().moveLeft()\n",
        "\n",
        "\n",
        "    def equals(self, other):\n",
        "        return self.x == other.x and self.y == other.y\n",
        "\n",
        "\n",
        "\n",
        "\n",
        "\n",
        "print('Part 1')\n",
        "print('------')\n",
        "car = Vehicle()\n",
        "print(car)\n",
        "car.moveUp()\n",
        "print(car)\n",
        "car.moveLeft()\n",
        "print(car)\n",
        "car.moveDown()\n",
        "print(car)\n",
        "car.moveRight()\n",
        "print(car)\n",
        "print('------')\n",
        "print('Part 2')\n",
        "print('------')\n",
        "car1 = Vehicle2010()\n",
        "print(car1)\n",
        "car1.moveLowerLeft()\n",
        "print(car1)\n",
        "car2 = Vehicle2010()\n",
        "car2.moveLeft()\n",
        "print(car1.equals(car2))\n",
        "car2.moveDown()\n",
        "print(car1.equals(car2))\n",
        "\n"
      ],
      "metadata": {
        "id": "r7NOGBuPGtNp",
        "colab": {
          "base_uri": "https://localhost:8080/"
        },
        "outputId": "ff92e744-ce9f-400a-d7dc-8e6b5c26828a"
      },
      "execution_count": null,
      "outputs": [
        {
          "output_type": "stream",
          "name": "stdout",
          "text": [
            "Part 1\n",
            "------\n",
            "(0 , 0)\n",
            "(0 , 1)\n",
            "(-1 , 1)\n",
            "(-1 , 0)\n",
            "(0 , 0)\n",
            "------\n",
            "Part 2\n",
            "------\n",
            "(0 , 0)\n",
            "(-1 , -1)\n",
            "False\n",
            "True\n"
          ]
        }
      ]
    },
    {
      "cell_type": "code",
      "execution_count": null,
      "metadata": {
        "colab": {
          "base_uri": "https://localhost:8080/"
        },
        "id": "XtJtEHlZySFM",
        "outputId": "5c55e550-5d5c-4a51-ac1b-702605dc28fd"
      },
      "outputs": [
        {
          "output_type": "stream",
          "name": "stdout",
          "text": [
            "Cricket Tournament Name: Default\n",
            "Number of Teams: 0\n",
            "Type: No type\n",
            "-----------------------\n",
            "Cricket Tournament Name: IPL\n",
            "Number of Teams: 10\n",
            "Type: t20\n",
            "-----------------------\n",
            "Tennis Tournamnet Name: Roland Garros\n",
            "Number of Players: 128\n"
          ]
        }
      ],
      "source": [
        "#task3\n",
        "\n",
        "class Tournament:\n",
        "    def __init__(self, name=\"Default\"):\n",
        "        self.__name = name\n",
        "\n",
        "    def set_name(self, name):\n",
        "        self.__name = name\n",
        "\n",
        "    def get_name(self):\n",
        "        return self.__name\n",
        "\n",
        "\n",
        "class Cricket_Tournament(Tournament):\n",
        "    def __init__(self, name=\"Default\", teams=0, type=\"No type\"):\n",
        "      super().__init__(name)\n",
        "      self.teams = teams\n",
        "      self.type = type\n",
        "\n",
        "    def detail(self):\n",
        "        name = super().get_name()\n",
        "        return f\"Cricket Tournament Name: {name}\\nNumber of Teams: {self.teams}\\nType: {self.type}\"\n",
        "\n",
        "\n",
        "class Tennis_Tournament(Tournament):\n",
        "    def __init__(self, name, player_num):\n",
        "        super().__init__(name)\n",
        "        self.player_num = player_num\n",
        "\n",
        "\n",
        "\n",
        "    def detail(self):\n",
        "        name = super().get_name()\n",
        "        return (f\"Tennis Tournamnet Name: {name}\\nNumber of Players: {self.player_num}\")\n",
        "\n",
        "\n",
        "ct1 = Cricket_Tournament()\n",
        "print(ct1.detail())\n",
        "print(\"-----------------------\")\n",
        "ct2 = Cricket_Tournament(\"IPL\", 10, \"t20\")\n",
        "print(ct2.detail())\n",
        "print(\"-----------------------\")\n",
        "tt = Tennis_Tournament(\"Roland Garros\", 128)\n",
        "print(tt.detail())"
      ]
    },
    {
      "cell_type": "code",
      "source": [
        "#task4\n",
        "class Product:\n",
        "    def __init__(self, id, title, price):\n",
        "        self.__id = id\n",
        "        self.__title = title\n",
        "        self.__price = price\n",
        "\n",
        "    def get_id_title_price(self):\n",
        "        return (\n",
        "            \"ID: \"\n",
        "            + str(self.__id)\n",
        "            + \" Title: \"\n",
        "            + self.__title\n",
        "            + \" Price: \"\n",
        "            + str(self.__price)\n",
        "        )\n",
        "\n",
        "\n",
        "class Book(Product):\n",
        "    def __init__(self, id, title, price, ISBN, publisher):\n",
        "        super().__init__(id, title, price)\n",
        "        self.ISBN = ISBN\n",
        "        self.publisher = publisher\n",
        "\n",
        "    def printDetail(self):\n",
        "        return (\n",
        "            super().get_id_title_price()\n",
        "            + f\"\\nISBN: {self.ISBN} Publisher: {self.publisher}\"\n",
        "        )\n",
        "\n",
        "\n",
        "class CD(Product):\n",
        "    def __init__(self, id, title, price, band, duration, genre):\n",
        "        super().__init__(id, title, price)\n",
        "        self.band = band\n",
        "        self.duration = duration\n",
        "        self.genre = genre\n",
        "\n",
        "    def printDetail(self):\n",
        "        return (\n",
        "            super().get_id_title_price()\n",
        "            + f\"\\nBand: {self.band} Duration: {self.duration}minutes\\nGenre: {self.genre}\"\n",
        "        )\n",
        "\n",
        "book = Book(1,\"The Alchemist\",500,\"97806\",\"HarperCollins\")\n",
        "print(book.printDetail())\n",
        "print(\"-----------------------\")\n",
        "cd = CD(2,\"Shotto\",300,\"Warfaze\",50,\"Hard Rock\")\n",
        "print(cd.printDetail())\n",
        "\n"
      ],
      "metadata": {
        "id": "JsR49k024GJt",
        "colab": {
          "base_uri": "https://localhost:8080/"
        },
        "outputId": "e7363046-4c15-415b-e747-563c2c305e49"
      },
      "execution_count": null,
      "outputs": [
        {
          "output_type": "stream",
          "name": "stdout",
          "text": [
            "ID: 1 Title: The Alchemist Price: 500\n",
            "ISBN: 97806 Publisher: HarperCollins\n",
            "-----------------------\n",
            "ID: 2 Title: Shotto Price: 300\n",
            "Band: Warfaze Duration: 50minutes\n",
            "Genre: Hard Rock\n"
          ]
        }
      ]
    },
    {
      "cell_type": "code",
      "source": [
        "#task5\n",
        "class Animal:\n",
        "    def __init__(self, sound):\n",
        "        self.__sound = sound\n",
        "\n",
        "    def makeSound(self):\n",
        "        return self.__sound\n",
        "\n",
        "\n",
        "class Printer:\n",
        "    def printSound(self, a):\n",
        "        print(a.makeSound())\n",
        "\n",
        "\n",
        "class Dog(Animal):\n",
        "    def __init__(self, sound):\n",
        "        super().__init__(sound)\n",
        "\n",
        "\n",
        "class Cat(Animal):\n",
        "    def __init__(self, sound):\n",
        "        super().__init__(sound)\n",
        "d1 = Dog('bark')\n",
        "c1 = Cat('meow')\n",
        "a1 = Animal('Animal does not make sound')\n",
        "pr = Printer()\n",
        "pr.printSound(a1)\n",
        "pr.printSound(c1)\n",
        "pr.printSound(d1)"
      ],
      "metadata": {
        "colab": {
          "base_uri": "https://localhost:8080/"
        },
        "id": "UnQZFWG2xPmT",
        "outputId": "71b9cbf6-eed4-4e65-de43-662e7fe8623a"
      },
      "execution_count": null,
      "outputs": [
        {
          "output_type": "stream",
          "name": "stdout",
          "text": [
            "Animal does not make sound\n",
            "meow\n",
            "bark\n"
          ]
        }
      ]
    },
    {
      "cell_type": "code",
      "source": [
        "#task6\n",
        "class Shape:\n",
        "    def __init__(self, name=\"Default\", height=0, base=0):\n",
        "        self.area = 0\n",
        "        self.name = name\n",
        "        self.height = height\n",
        "        self.base = base\n",
        "\n",
        "    def get_height_base(self):\n",
        "        return \"Height: \" + str(self.height) + \", Base: \" + str(self.base)\n",
        "\n",
        "\n",
        "class triangle(Shape):\n",
        "    def calcArea(self):\n",
        "        self.area = (self.height * self.base) / 2\n",
        "\n",
        "    def printDetail(self):\n",
        "\n",
        "        return (\n",
        "            f\"Shape name: {self.name}\\n\"\n",
        "            + super().get_height_base()\n",
        "            + f\"\\nArea: {self.area}\"\n",
        "        )\n",
        "\n",
        "\n",
        "class trapezoid(Shape):\n",
        "    def __init__(self, name, height, base, side_A):\n",
        "        super().__init__(name, height, base)\n",
        "        self.side_A = side_A\n",
        "\n",
        "    def calcArea(self):\n",
        "        self.area = ((self.base + self.side_A) / 2) * self.height\n",
        "\n",
        "    def printDetail(self):\n",
        "        return (\n",
        "            f\"Shape name: {self.name}\\n\"\n",
        "            + super().get_height_base()\n",
        "            + f\", Side_A: {self.side_A}\"\n",
        "            + f\"\\nArea: {self.area}\"\n",
        "        )\n",
        "tri_default = triangle()\n",
        "tri_default.calcArea()\n",
        "print(tri_default.printDetail())\n",
        "print('--------------------------')\n",
        "tri = triangle('Triangle', 10, 5)\n",
        "tri.calcArea()\n",
        "print(tri.printDetail())\n",
        "print('---------------------------')\n",
        "trap = trapezoid('Trapezoid', 10, 6, 4)\n",
        "trap.calcArea()\n",
        "print(trap.printDetail())\n"
      ],
      "metadata": {
        "colab": {
          "base_uri": "https://localhost:8080/"
        },
        "id": "W6P1WATuxR9p",
        "outputId": "4824968c-7eea-49ce-ac4f-30d5f300d76d"
      },
      "execution_count": null,
      "outputs": [
        {
          "output_type": "stream",
          "name": "stdout",
          "text": [
            "Shape name: Default\n",
            "Height: 0, Base: 0\n",
            "Area: 0.0\n",
            "--------------------------\n",
            "Shape name: Triangle\n",
            "Height: 10, Base: 5\n",
            "Area: 25.0\n",
            "---------------------------\n",
            "Shape name: Trapezoid\n",
            "Height: 10, Base: 6, Side_A: 4\n",
            "Area: 50.0\n"
          ]
        }
      ]
    },
    {
      "cell_type": "code",
      "source": [
        "#task7\n",
        "class SportsPerson:\n",
        "\n",
        "  def __init__(self, team_name, name, role):\n",
        "    self.__team = team_name\n",
        "    self.__name = name\n",
        "    self.role = role\n",
        "    self.earning_per_match = 0\n",
        "\n",
        "  def get_name_team(self):\n",
        "    return 'Name: '+self.__name+', Team Name: ' +self.__team\n",
        "\n",
        "#write your code here\n",
        "class Football:\n",
        "    def __init__(self, team_name, name, role):\n",
        "        self.__team = team_name\n",
        "        self.__name = name\n",
        "        self.role = role\n",
        "        self.earning_per_match = 0\n",
        "\n",
        "    def get_name_team(self):\n",
        "        return \"Name: \" + self.__name + \", Team Name: \" + self.__team\n",
        "\n",
        "\n",
        "class Player(Football):\n",
        "    def __init__(self, team_name, name, role, goal, played):\n",
        "        super().__init__(team_name, name, role)\n",
        "        self.goal = goal\n",
        "        self.played = played\n",
        "\n",
        "    def calculate_ratio(self):\n",
        "        self.ratio = self.goal / self.played\n",
        "\n",
        "    def print_details(self):\n",
        "        earning = (self.goal * 1000) + (self.played * 10)\n",
        "        print(super().get_name_team())\n",
        "        print(f\"Team Role: {self.role}\")\n",
        "        print(f\"Total Goal: {self.goal}, Total Played: {self.played}\")\n",
        "        print(f\"Goal Ratio: {self.ratio}\")\n",
        "        print(f\"Match Earning: {earning}K\")\n",
        "\n",
        "\n",
        "class Manager(Football):\n",
        "    def __init__(self, team_name, name, role, win):\n",
        "        super().__init__(team_name, name, role)\n",
        "        self.win = win\n",
        "\n",
        "    def print_details(self):\n",
        "        earning = self.win * 1000\n",
        "        print(super().get_name_team())\n",
        "        print(f\"Team Role: {self.role}\")\n",
        "        print(f\"Win: {self.win}\")\n",
        "        print(f\"Match Earning: {earning}K\")\n",
        "\n",
        "\n",
        "player_one = Player('Juventus', 'Ronaldo', 'Striker', 25, 32)\n",
        "player_one.calculate_ratio()\n",
        "player_one.print_details()\n",
        "print('------------------------------------------')\n",
        "manager_one = Manager('Real Madrid', 'Zidane', 'Manager', 25)\n",
        "manager_one.print_details()\n"
      ],
      "metadata": {
        "colab": {
          "base_uri": "https://localhost:8080/"
        },
        "id": "ulu3YgB34GuF",
        "outputId": "b4a4f4b2-5f17-41f1-a27c-49e953ed8bde"
      },
      "execution_count": null,
      "outputs": [
        {
          "output_type": "stream",
          "name": "stdout",
          "text": [
            "Name: Ronaldo, Team Name: Juventus\n",
            "Team Role: Striker\n",
            "Total Goal: 25, Total Played: 32\n",
            "Goal Ratio: 0.78125\n",
            "Match Earning: 25320K\n",
            "------------------------------------------\n",
            "Name: Zidane, Team Name: Real Madrid\n",
            "Team Role: Manager\n",
            "Win: 25\n",
            "Match Earning: 25000K\n"
          ]
        }
      ]
    },
    {
      "cell_type": "code",
      "source": [
        "#task"
      ],
      "metadata": {
        "id": "JdKTAtNh4Kh1"
      },
      "execution_count": null,
      "outputs": []
    },
    {
      "cell_type": "code",
      "source": [
        "#task"
      ],
      "metadata": {
        "id": "OqrD34GE4LAl"
      },
      "execution_count": null,
      "outputs": []
    },
    {
      "cell_type": "code",
      "source": [
        "#task"
      ],
      "metadata": {
        "id": "XZwkhY7b4LVF"
      },
      "execution_count": null,
      "outputs": []
    },
    {
      "cell_type": "code",
      "source": [
        "#task"
      ],
      "metadata": {
        "id": "HuOVEnWS4Lkt"
      },
      "execution_count": null,
      "outputs": []
    },
    {
      "cell_type": "code",
      "source": [
        "#task"
      ],
      "metadata": {
        "id": "s7I72Nhq4L8d"
      },
      "execution_count": null,
      "outputs": []
    },
    {
      "cell_type": "code",
      "source": [
        "#task"
      ],
      "metadata": {
        "id": "Nxx_1ZhS4ML9"
      },
      "execution_count": null,
      "outputs": []
    },
    {
      "cell_type": "code",
      "source": [
        "#task"
      ],
      "metadata": {
        "id": "kavpEMU44Md9"
      },
      "execution_count": null,
      "outputs": []
    },
    {
      "cell_type": "code",
      "source": [
        "#task"
      ],
      "metadata": {
        "id": "GQbLfGM_4Mst"
      },
      "execution_count": null,
      "outputs": []
    }
  ]
}