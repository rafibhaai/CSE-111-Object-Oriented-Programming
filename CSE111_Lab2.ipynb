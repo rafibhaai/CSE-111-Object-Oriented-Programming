{
  "nbformat": 4,
  "nbformat_minor": 0,
  "metadata": {
    "colab": {
      "provenance": []
    },
    "kernelspec": {
      "name": "python3",
      "display_name": "Python 3"
    },
    "language_info": {
      "name": "python"
    }
  },
  "cells": [
    {
      "cell_type": "code",
      "execution_count": null,
      "metadata": {
        "id": "5fCy6XJ7xYTb"
      },
      "outputs": [],
      "source": [
        "#task1\n",
        "def fraction(numerator, denominator):\n",
        "  if denominator == 0:\n",
        "    return 0\n",
        "  else:\n",
        "    return (numerator/denominator)%1\n",
        "numerator= int(input(\"Enter: \"))\n",
        "denominator=int(input(\"enter: \"))\n",
        "print(fraction(5,2))"
      ]
    },
    {
      "cell_type": "code",
      "source": [
        "#task2\n",
        "def bmi_calculator (height, weight):\n",
        "  h=height/100\n",
        "  bmi=float(weight/(h**2))\n",
        "  bmi = float(format(bmi,\".1f\"))\n",
        "  print(bmi)\n",
        "  if bmi<18.5:\n",
        "    return \"You are Underweight \"\n",
        "  elif 18.5<=bmi<=24.9:\n",
        "    return \"You are Normal\"\n",
        "  elif 25<=bmi<=30:\n",
        "    return \"You are Overweigh\"\n",
        "  else:\n",
        "    return \"You are Obese\"\n",
        "\n",
        "height=float(input(\"Enter height\"))\n",
        "weight= float(input(\" Enter weight\"))\n",
        "bmi_calculator(height, weight)"
      ],
      "metadata": {
        "id": "bPqro8QZybo5"
      },
      "execution_count": null,
      "outputs": []
    },
    {
      "cell_type": "code",
      "source": [
        "#task3\n",
        "def div_sum(min, max, div):\n",
        "    if div != 0:\n",
        "\n",
        "\n",
        "        Sum = 0\n",
        "        for num in range(min, max):\n",
        "           if num % div == 0:\n",
        "               Sum += num\n",
        "        return Sum\n",
        "\n",
        "print(div_sum(0, 10, 2))\n",
        "print(div_sum(3, 16, 3))"
      ],
      "metadata": {
        "id": "nhEbc8I6yq7g"
      },
      "execution_count": null,
      "outputs": []
    },
    {
      "cell_type": "code",
      "source": [
        "#task4\n",
        "def foodpanda(food, location= \"Mohakhali\"):\n",
        "  if location!= \"Mohakhali\":\n",
        "    delivery_charge= 60\n",
        "  else:\n",
        "    delivery_charge= 40\n",
        "  if food== \"BBQ Chicken Cheese Burger\":\n",
        "    meal_cost= 250\n",
        "  elif food== \"Beef Burger\":\n",
        "    meal_cost= 170\n",
        "  elif food == \"Naga Drums\":\n",
        "    meal_cost= 200\n",
        "  tax= (meal_cost)*8/100\n",
        "  total = meal_cost + delivery_charge + tax\n",
        "  return total\n",
        "food= input('Enter food: ')\n",
        "location= input(\"Enter Location \")\n",
        "foodpanda(food, location)"
      ],
      "metadata": {
        "id": "If3UWB4dysTw"
      },
      "execution_count": null,
      "outputs": []
    },
    {
      "cell_type": "code",
      "source": [
        "#task5\n",
        "def replace_domain(email, domain, old_domain=\"kaaj.com\"):\n",
        "    new_email = \"\"\n",
        "    index = -1\n",
        "    for char in range(len(email)):\n",
        "        if email[char] == \"@\":\n",
        "            index = char\n",
        "            break\n",
        "\n",
        "    if index == -1:\n",
        "        return \"Incorrect E-Mail Adress!\"\n",
        "\n",
        "    new_email = email[: index + 1]\n",
        "\n",
        "    if old_domain in email:\n",
        "        new_email += domain\n",
        "        comment = \"Changed\"\n",
        "    else:\n",
        "        new_email += domain\n",
        "        comment = \"Unchanged\"\n",
        "\n",
        "    return f\"{comment}: {new_email}\"\n",
        "\n",
        "\n",
        "print(replace_domain(\"alice@kaaj.com\", \"sheba.xyz\", \"kaaj.com\"))\n",
        "print(replace_domain(\"bob@sheba.xyz\", \"sheba.xyz\"))\n"
      ],
      "metadata": {
        "id": "sDlbJh-0y0Oh"
      },
      "execution_count": null,
      "outputs": []
    },
    {
      "cell_type": "code",
      "source": [
        "#task6\n",
        "def vowel(string):\n",
        "    '''\n",
        "    Given a string, this function search for any vowels in the given string\n",
        "    and returns the founded vowels and the vowel count as output. If no\n",
        "    vowel found, it returns \"No vowels in the name\".\n",
        "    '''\n",
        "    vowel = \"aeiouAEIOU\"\n",
        "    vowel_in, total = \"\" , 0\n",
        "\n",
        "    for char in string:\n",
        "        if char in vowel:\n",
        "            vowel_in += char + \", \"\n",
        "            total += 1\n",
        "\n",
        "    if total == 0:\n",
        "        return \"No vowels in the name\"\n",
        "    else:\n",
        "        return f\"Vowels: {vowel_in[:-2]}. Total number of vowels: {total}\"\n",
        "string= input(\"Enter:  \")\n",
        "print(vowel(string))\n",
        "\n",
        "# print(vowel(\"Steve Jobs\"))\n",
        "# print(vowel(\"XYZ\"))\n",
        "# print(vowel(\"Anime\"))\n",
        "# print(vowel(\"AeIoU\"))"
      ],
      "metadata": {
        "colab": {
          "base_uri": "https://localhost:8080/"
        },
        "id": "tTIfsIizzGkg",
        "outputId": "92428ea4-3ad9-4d81-b2a7-c32c3ab8ea78"
      },
      "execution_count": null,
      "outputs": [
        {
          "output_type": "stream",
          "name": "stdout",
          "text": [
            "Enter:  Steve Jobs\n",
            "Vowels: e, e, o. Total number of vowels: 3\n"
          ]
        }
      ]
    },
    {
      "cell_type": "code",
      "source": [
        "#task7\n",
        "def palindrome (word):\n",
        "  temp=\"\"\n",
        "  for i in word:\n",
        "    if temp!=\" \":\n",
        "      temp+=i\n",
        "    if temp== temp[::-1]:\n",
        "      return \"Palindrome\"\n",
        "    else:\n",
        "      return \" NOT a palindrome\"\n",
        "word= input(\"Enter \")"
      ],
      "metadata": {
        "id": "4YkJdTIMzIbR"
      },
      "execution_count": null,
      "outputs": []
    },
    {
      "cell_type": "code",
      "source": [
        "#task8\n",
        "def day_to_year(day):\n",
        "    \"\"\"\n",
        "    Given number of days as input, this function convert and returns the\n",
        "    days into years, month and remaining days.\n",
        "    \"\"\"\n",
        "    year = day // 365\n",
        "    day = day % (year * 365)\n",
        "    month = day // 30\n",
        "    day = day % (month * 30)\n",
        "\n",
        "    return f\"{year} years, {month} months and {day} days\"\n",
        "\n",
        "\n",
        "print(day_to_year(4320))\n",
        "print(day_to_year(4000))"
      ],
      "metadata": {
        "id": "G-_vplpozKOY"
      },
      "execution_count": null,
      "outputs": []
    },
    {
      "cell_type": "code",
      "source": [
        "#task09\n",
        "def capitalize(string):\n",
        "    \"\"\"\n",
        "    Given a string with incorrect caplitalization, this\n",
        "    function correctly capitalize the string and then\n",
        "    returns it.\n",
        "    \"\"\"\n",
        "    if string != \"\":\n",
        "        if string[0] >= chr(97) and string[0] <= chr(122):\n",
        "            capitalized_str = chr(ord(string[0]) - 32)\n",
        "        else:\n",
        "            capitalized_str = string[0]\n",
        "\n",
        "        for index in range(1, len(string)):\n",
        "            if (\n",
        "                string[index - 1] == \" \"\n",
        "                and string[index] == \"i\"\n",
        "                and string[index + 1] == \" \"\n",
        "            ):\n",
        "                capitalized_str += \"I\"\n",
        "\n",
        "            elif (\n",
        "                string[index - 2] == \".\"\n",
        "                or string[index - 2] == \"!\"\n",
        "                or string[index - 2] == \"?\"\n",
        "            ):\n",
        "                capitalized_str += chr(ord(string[index]) - 32)\n",
        "\n",
        "            else:\n",
        "                capitalized_str += string[index]\n",
        "\n",
        "        return capitalized_str\n",
        "\n",
        "    else:\n",
        "        return \"Please enter a valid string.\"\n",
        "\n",
        "\n",
        "print(\n",
        "    capitalize(\n",
        "        \"my favourite animal is a dog. a dog has sharp teeth so that it can eat flesh very easily. do you know my pet dog’s name? i love my pet very much.\"\n",
        "    )\n",
        ")\n",
        "\n",
        "print(capitalize(\"\"))"
      ],
      "metadata": {
        "id": "v-8djYEl3ssj"
      },
      "execution_count": null,
      "outputs": []
    }
  ]
}