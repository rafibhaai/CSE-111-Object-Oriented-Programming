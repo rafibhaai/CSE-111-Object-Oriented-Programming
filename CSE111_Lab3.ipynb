{
  "nbformat": 4,
  "nbformat_minor": 0,
  "metadata": {
    "colab": {
      "provenance": []
    },
    "kernelspec": {
      "name": "python3",
      "display_name": "Python 3"
    },
    "language_info": {
      "name": "python"
    }
  },
  "cells": [
    {
      "cell_type": "markdown",
      "source": [],
      "metadata": {
        "id": "c0510LNJn8KQ"
      }
    },
    {
      "cell_type": "code",
      "execution_count": null,
      "metadata": {
        "colab": {
          "base_uri": "https://localhost:8080/"
        },
        "id": "7xcIShn8h-Kj",
        "outputId": "f4a45eff-5e68-48cf-d251-2629eabae903"
      },
      "outputs": [
        {
          "output_type": "stream",
          "name": "stdout",
          "text": [
            "Integer\n",
            "1234\n",
            "=====================\n",
            "String\n",
            "Hello\n",
            "=====================\n",
            "Float\n",
            "4.0\n"
          ]
        }
      ],
      "source": [
        "#task1\n",
        "class DataType:\n",
        "  def __init__(self, name, value):\n",
        "    self.name= name\n",
        "    self.value= value\n",
        "data_type1 = DataType(\"Integer\", 1234)\n",
        "print(data_type1.name)\n",
        "print(data_type1.value)\n",
        "print('=====================')\n",
        "data_type2 = DataType(\"String\", \"Hello\")\n",
        "print(data_type2.name)\n",
        "print(data_type2.value)\n",
        "print('=====================')\n",
        "data_type3 = DataType(\"Float\", 4.0)\n",
        "print(data_type3.name)\n",
        "print(data_type3.value)\n",
        "\n"
      ]
    },
    {
      "cell_type": "code",
      "source": [
        "#task\n",
        "class DEMO:\n",
        "  def demoMethod(self):\n",
        "    print(\"I am Inside Method\")\n",
        "  x= 10\n",
        "x= DEMO()\n",
        "x.demoMethod()"
      ],
      "metadata": {
        "colab": {
          "base_uri": "https://localhost:8080/"
        },
        "id": "MYmgxVhJjTry",
        "outputId": "7c507c9b-7563-4852-afbe-0ca90226535d"
      },
      "execution_count": null,
      "outputs": [
        {
          "output_type": "stream",
          "name": "stdout",
          "text": [
            "I am Inside Method\n"
          ]
        }
      ]
    },
    {
      "cell_type": "code",
      "source": [
        "#task2\n",
        "class Joker:\n",
        "   def __init__(self, name, power, is_he_psycho):\n",
        "     self.name= name\n",
        "     self.power= power\n",
        "     self.is_he_psycho= is_he_psycho\n",
        "\n",
        "j1 = Joker('Heath Ledger', 'Mind Game', False)\n",
        "print(j1.name)\n",
        "print(j1.power)\n",
        "print(j1.is_he_psycho)\n",
        "print(\"=====================\")\n",
        "j2 = Joker('Joaquin Phoenix', 'Laughing out Loud', True)\n",
        "print(j2.name)\n",
        "print(j2.power)\n",
        "print(j2.is_he_psycho)\n",
        "print(\"=====================\")\n",
        "if j1 == j2:\n",
        "    print('same')\n",
        "else:\n",
        "    print('different')\n",
        "j2.name = 'Heath Ledger'\n",
        "if j1.name == j2.name:\n",
        "    print('same')\n",
        "else:\n",
        "    print('different')\n",
        "\n"
      ],
      "metadata": {
        "colab": {
          "base_uri": "https://localhost:8080/"
        },
        "id": "_E9RgW_GjUhx",
        "outputId": "32504264-9941-4cbd-b694-128931fa91ef"
      },
      "execution_count": null,
      "outputs": [
        {
          "output_type": "stream",
          "name": "stdout",
          "text": [
            "Heath Ledger\n",
            "Mind Game\n"
          ]
        }
      ]
    },
    {
      "cell_type": "code",
      "source": [
        "#task3\n",
        "class Pokemon:\n",
        "  def __init__ (self, pokemon1_name, pokemon2_name, pokemon1_power, pokemon2_power, damage_rate):\n",
        "    self.pokemon1_name = pokemon1_name\n",
        "    self.pokemon2_name= pokemon2_name\n",
        "    self.pokemon1_power= pokemon1_power\n",
        "    self.pokemon2_power=pokemon2_power\n",
        "    self.damage_rate = damage_rate\n",
        "team_pika = Pokemon('pikachu', 'charmander', 90, 60, 10)\n",
        "team_bulb= Pokemon(\"bulbasaur\", \"squirtle\", 80, 70, 9)\n",
        "print('=======Team 1=======')\n",
        "print('Pokemon 1:',team_pika.pokemon1_name, team_pika.pokemon1_power)\n",
        "print('Pokemon 2:',team_pika.pokemon2_name, team_pika.pokemon2_power)\n",
        "pika_combined_power = (team_pika.pokemon1_power + team_pika.pokemon2_power) * team_pika.damage_rate\n",
        "print('Combined Power:', pika_combined_power)\n",
        "print('=======Team 2=======')\n",
        "print('Pokemon 1:',team_bulb.pokemon1_name, team_bulb.pokemon1_power)\n",
        "print('Pokemon 2:',team_bulb.pokemon2_name, team_bulb.pokemon2_power)\n",
        "bulb_combined_power = (team_bulb.pokemon1_power + team_bulb.pokemon2_power) * team_bulb.damage_rate\n",
        "print('Combined Power:', bulb_combined_power)\n",
        "\n",
        "\n"
      ],
      "metadata": {
        "colab": {
          "base_uri": "https://localhost:8080/"
        },
        "id": "ObMyVkyujU9Q",
        "outputId": "d577f6f3-f457-4cb5-8923-e6ea30847e0f"
      },
      "execution_count": null,
      "outputs": [
        {
          "output_type": "stream",
          "name": "stdout",
          "text": [
            "=======Team 1=======\n",
            "Pokemon 1: pikachu 90\n",
            "Pokemon 2: charmander 60\n",
            "Combined Power: 1500\n",
            "=======Team 2=======\n",
            "Pokemon 1: bulbasaur 80\n",
            "Pokemon 2: squirtle 70\n",
            "Combined Power: 1350\n"
          ]
        }
      ]
    },
    {
      "cell_type": "code",
      "source": [
        "#task4\n",
        "class Country:\n",
        "  def __init__(self, name =\"Bangladesh\", continent= \"Asia\", capital=\"dHAKA\", fifa_ranking= 187):\n",
        "    self.name= name\n",
        "    self.continent= continent\n",
        "    self.capital= capital\n",
        "    self.fifa_ranking= fifa_ranking\n",
        "\n",
        "country = Country()\n",
        "print('Name:',country.name)\n",
        "print('Continent:',country.continent)\n",
        "print('Capital:',country.capital)\n",
        "print('Fifa Ranking:',country.fifa_ranking)\n",
        "print('===================')\n",
        "country.name = \"Belgium\"\n",
        "country.continent = \"Europe\"\n",
        "country.capital = \"Brussels\"\n",
        "country.fifa_ranking = 1\n",
        "print('Name:',country.name)\n",
        "print('Continent:',country.continent)\n",
        "print('Capital:',country.capital)\n",
        "print('Fifa Ranking:',country.fifa_ranking)\n",
        "\n"
      ],
      "metadata": {
        "colab": {
          "base_uri": "https://localhost:8080/"
        },
        "id": "f7VH_YSEjVTx",
        "outputId": "49684662-faff-4c03-8bec-050ec82631c9"
      },
      "execution_count": null,
      "outputs": [
        {
          "output_type": "stream",
          "name": "stdout",
          "text": [
            "Name: Bangladesh\n",
            "Continent: Asia\n",
            "Capital: dHAKA\n",
            "Fifa Ranking: 187\n",
            "===================\n",
            "Name: Belgium\n",
            "Continent: Europe\n",
            "Capital: Brussels\n",
            "Fifa Ranking: 1\n"
          ]
        }
      ]
    },
    {
      "cell_type": "code",
      "source": [
        "#task5\n",
        "class DemonSlayer:\n",
        "  def __init__ (self, name, style, number_of_technique, kill):\n",
        "    self.name= name\n",
        "    self.style= style\n",
        "    self.number_of_technique= number_of_technique\n",
        "    self.kill= kill\n",
        "tanjiro = DemonSlayer(\"Tanjiro\", \"Water Breathing\", 10, 10)\n",
        "print('Name:',tanjiro.name)\n",
        "print('Fighting Style:',tanjiro.style)\n",
        "print(f'Knows {tanjiro.number_of_technique} technique(s) and has killed {tanjiro.kill} demon(s)')\n",
        "print('===================')\n",
        "zenitsu = DemonSlayer(\"Zenitsu\", \"Thunder Breathing\", 1, 4)\n",
        "print('Name:',zenitsu.name)\n",
        "print('Fighting Style:',zenitsu.style)\n",
        "print(f'Knows {zenitsu.number_of_technique} technique(s) and has killed {zenitsu.kill} demon(s)')\n",
        "print('===================')\n",
        "inosuke = DemonSlayer(\"Inosuke\", \"Beast Breathing\", 5, 7)\n",
        "print('Name:',inosuke.name)\n",
        "print('Fighting Style:',inosuke.style)\n",
        "print(f'Knows {inosuke.number_of_technique} technique(s) and has killed {inosuke.kill} demon(s)')\n",
        "print('===================')\n",
        "print(f'{tanjiro.name}, {zenitsu.name}, {inosuke.name} knows total {tanjiro.number_of_technique + zenitsu.number_of_technique + inosuke.number_of_technique} techniques')\n",
        "print(f'They have killed total {tanjiro.kill + zenitsu.kill + inosuke.kill} demons')\n",
        "\n"
      ],
      "metadata": {
        "colab": {
          "base_uri": "https://localhost:8080/"
        },
        "id": "mvtqkT5FjWui",
        "outputId": "8694d149-4772-4525-e595-ae1f4a6496ec"
      },
      "execution_count": null,
      "outputs": [
        {
          "output_type": "stream",
          "name": "stdout",
          "text": [
            "Name: Tanjiro\n",
            "Fighting Style: Water Breathing\n",
            "Knows 10 technique(s) and has killed 10 demon(s)\n",
            "===================\n",
            "Name: Zenitsu\n",
            "Fighting Style: Thunder Breathing\n",
            "Knows 1 technique(s) and has killed 4 demon(s)\n",
            "===================\n",
            "Name: Inosuke\n",
            "Fighting Style: Beast Breathing\n",
            "Knows 5 technique(s) and has killed 7 demon(s)\n",
            "===================\n",
            "Tanjiro, Zenitsu, Inosuke knows total 16 techniques\n",
            "They have killed total 21 demons\n"
          ]
        }
      ]
    },
    {
      "cell_type": "code",
      "source": [
        "#task6 #problemmmmmmmmmm\n",
        "class box:\n",
        "  def __init__(self, height, widght, breadth):\n",
        "    self.height=height\n",
        "    self.widght=widght\n",
        "    self.breadth= breadth\n",
        "    print(\"Creating a Box!\")\n",
        "    print(f\"Volume of the box is {self.height * self.widght* self.breadth } cubic units.\")\n",
        "print(\"Box 1\")\n",
        "b1 = box([10,10,10])\n",
        "print(\"=========================\")\n",
        "print(\"Height:\", b1.height)\n",
        "print(\"Width:\", b1.width)\n",
        "print(\"Breadth:\", b1.breadth)\n",
        "print(\"-------------------------\")\n",
        "print(\"Box 2\")\n",
        "b2 = box((30,10,10))\n",
        "print(\"=========================\")\n",
        "print(\"Height:\", b2.height)\n",
        "print(\"Width:\", b2.width)\n",
        "print(\"Breadth:\", b2.breadth)\n",
        "b2.height = 300\n",
        "print(\"Updating Box 2!\")\n",
        "print(\"Height:\", b2.height)\n",
        "print(\"Width:\", b2.width)\n",
        "print(\"Breadth:\", b2.breadth)\n",
        "print(\"-------------------------\")\n",
        "print(\"Box 3\")\n",
        "b3 = b2\n",
        "print(\"Height:\", b3.height)\n",
        "print(\"Width:\", b3.width)\n",
        "print(\"Breadth:\", b3.breadth)\n",
        "\n"
      ],
      "metadata": {
        "id": "kiSAT1WjjXYK",
        "colab": {
          "base_uri": "https://localhost:8080/",
          "height": 269
        },
        "outputId": "ed58dd24-68a6-4ce6-e4cc-c90416d9500f"
      },
      "execution_count": null,
      "outputs": [
        {
          "output_type": "stream",
          "name": "stdout",
          "text": [
            "Box 1\n"
          ]
        },
        {
          "output_type": "error",
          "ename": "TypeError",
          "evalue": "ignored",
          "traceback": [
            "\u001b[0;31m---------------------------------------------------------------------------\u001b[0m",
            "\u001b[0;31mTypeError\u001b[0m                                 Traceback (most recent call last)",
            "\u001b[0;32m<ipython-input-1-6819124f6a4c>\u001b[0m in \u001b[0;36m<module>\u001b[0;34m\u001b[0m\n\u001b[1;32m      8\u001b[0m     \u001b[0mprint\u001b[0m\u001b[0;34m(\u001b[0m\u001b[0;34mf\"Volume of the box is {self.height * self.widght* self.breadth } cubic units.\"\u001b[0m\u001b[0;34m)\u001b[0m\u001b[0;34m\u001b[0m\u001b[0;34m\u001b[0m\u001b[0m\n\u001b[1;32m      9\u001b[0m \u001b[0mprint\u001b[0m\u001b[0;34m(\u001b[0m\u001b[0;34m\"Box 1\"\u001b[0m\u001b[0;34m)\u001b[0m\u001b[0;34m\u001b[0m\u001b[0;34m\u001b[0m\u001b[0m\n\u001b[0;32m---> 10\u001b[0;31m \u001b[0mb1\u001b[0m \u001b[0;34m=\u001b[0m \u001b[0mbox\u001b[0m\u001b[0;34m(\u001b[0m\u001b[0;34m[\u001b[0m\u001b[0;36m10\u001b[0m\u001b[0;34m,\u001b[0m\u001b[0;36m10\u001b[0m\u001b[0;34m,\u001b[0m\u001b[0;36m10\u001b[0m\u001b[0;34m]\u001b[0m\u001b[0;34m)\u001b[0m\u001b[0;34m\u001b[0m\u001b[0;34m\u001b[0m\u001b[0m\n\u001b[0m\u001b[1;32m     11\u001b[0m \u001b[0mprint\u001b[0m\u001b[0;34m(\u001b[0m\u001b[0;34m\"=========================\"\u001b[0m\u001b[0;34m)\u001b[0m\u001b[0;34m\u001b[0m\u001b[0;34m\u001b[0m\u001b[0m\n\u001b[1;32m     12\u001b[0m \u001b[0mprint\u001b[0m\u001b[0;34m(\u001b[0m\u001b[0;34m\"Height:\"\u001b[0m\u001b[0;34m,\u001b[0m \u001b[0mb1\u001b[0m\u001b[0;34m.\u001b[0m\u001b[0mheight\u001b[0m\u001b[0;34m)\u001b[0m\u001b[0;34m\u001b[0m\u001b[0;34m\u001b[0m\u001b[0m\n",
            "\u001b[0;31mTypeError\u001b[0m: __init__() missing 2 required positional arguments: 'widght' and 'breadth'"
          ]
        }
      ]
    },
    {
      "cell_type": "code",
      "source": [
        "#task7 #problem\n"
      ],
      "metadata": {
        "id": "k5LQ2rl4jXrh",
        "colab": {
          "base_uri": "https://localhost:8080/"
        },
        "outputId": "3a08f89e-2505-4c40-a576-6f84131bce97"
      },
      "execution_count": null,
      "outputs": [
        {
          "output_type": "stream",
          "name": "stdout",
          "text": [
            "1\n",
            "+\n",
            "2\n",
            "Let’s Calculate!\n",
            "Value 1: 1\n",
            "Operator:  +\n",
            "Value 2: 2\n",
            "Result : 3\n"
          ]
        }
      ]
    },
    {
      "cell_type": "code",
      "source": [
        "#task8\n",
        "class Calculator:\n",
        "  def __init__(self, val1,operator,val2):\n",
        "    self.value1=val1\n",
        "    self.operator= operator\n",
        "    self.value2= val2\n",
        "    print(\"Let’s Calculate!\")\n",
        "    print(\"Value 1:\", self.value1)\n",
        "    print(\"Operator: \", self.operator)\n",
        "    print(\"Value 2:\", self.value2)\n",
        "    if self.operator==\"+\":\n",
        "      Calculator.add(self)\n",
        "    elif self.operator==\"-\":\n",
        "      Calculator.substract(self)\n",
        "    elif self.operator==\"*\":\n",
        "      Calculator.multiply(self)\n",
        "    elif self.operator==\"/\":\n",
        "      Calculator.divide(self)\n",
        "  def add(self):\n",
        "      print(f\"Result : {self.value1 + self.value2}\")\n",
        "\n",
        "  def subtract(self):\n",
        "      print(f\"Result : {self.value1 - self.value2}\")\n",
        "\n",
        "  def multiply(self):\n",
        "      print(f\"Result : {self.value1 * self.value2}\")\n",
        "\n",
        "  def divide(self):\n",
        "      print(f\"Result : {self.value1 / self.value2}\")\n",
        "val1=int(input())\n",
        "operator= input()\n",
        "val2=int(input())\n",
        "calc=Calculator(val1,operator,val2)"
      ],
      "metadata": {
        "id": "WQkSYQh9Y1WB"
      },
      "execution_count": null,
      "outputs": []
    },
    {
      "cell_type": "code",
      "source": [
        "#task9\n",
        "class Patient:\n",
        "  def __init__(self,name,age,weight,height):\n",
        "    self.name=name\n",
        "    self.age=age\n",
        "    self.weight=weight\n",
        "    self.height=height\n",
        "  def printDetails(self):\n",
        "    print(\"Name: \", self.name)\n",
        "    print(\"Age: \", self.age)\n",
        "    print(\"weight: \", self.weight)\n",
        "    print(\"Height: \", self.height)\n",
        "    bmi=(self.weight/(self.height/100)**2)\n",
        "    print(\"BMI: \", bmi)\n",
        "p1 = Patient(\"A\", 55, 63.0, 158.0)\n",
        "p1.printDetails()\n",
        "print(\"====================\")\n",
        "p2 = Patient(\"B\", 53, 61.0, 149.0)\n",
        "p2.printDetails()\n"
      ],
      "metadata": {
        "colab": {
          "base_uri": "https://localhost:8080/"
        },
        "id": "kXpBMVmec_0g",
        "outputId": "2babc178-54cf-422e-bbfd-18a39f21e821"
      },
      "execution_count": null,
      "outputs": [
        {
          "output_type": "stream",
          "name": "stdout",
          "text": [
            "Name:  A\n",
            "Age:  55\n",
            "weight:  63.0\n",
            "Height:  158.0\n",
            "BMI:  25.236340330075304\n",
            "====================\n",
            "Name:  B\n",
            "Age:  53\n",
            "weight:  61.0\n",
            "Height:  149.0\n",
            "BMI:  27.476239809017613\n"
          ]
        }
      ]
    },
    {
      "cell_type": "code",
      "source": [
        "#task10"
      ],
      "metadata": {
        "id": "hpiXUZljFe1A"
      },
      "execution_count": null,
      "outputs": []
    },
    {
      "cell_type": "code",
      "source": [
        "#task11\n",
        "class Shape:\n",
        "  def __init__(self, shapename, base1, base2):\n",
        "    self.shapename= shapename\n",
        "    self.base1= base1\n",
        "    self.base2= base2\n",
        "  def area (self):\n",
        "    if self.shapename== \"Triangle\":\n",
        "      area=0.5*self.base1*self.base2\n",
        "      print(\"Area:\", area)\n",
        "    elif self.shapename==\"Square\":\n",
        "      area=self.base1*self.base2\n",
        "      print(\"Area:\", area)\n",
        "    elif self.shapename==\"Rhombus\":\n",
        "      area=0.5*self.base1*self.base2\n",
        "      print(\"Area:\", area)\n",
        "    elif self.shapename==\"Rectangle\":\n",
        "      area=self.base1*self.base2\n",
        "      print(\"Area:\", area)\n",
        "    else:\n",
        "      print(\"Shape unknown\")\n",
        "\n",
        "\n",
        "triangle = Shape(\"Triangle\",10,25)\n",
        "triangle.area()\n",
        "print(\"==========================\")\n",
        "square = Shape(\"Square\",10,10)\n",
        "square.area()\n",
        "print(\"==========================\")\n",
        "rhombus = Shape(\"Rhombus\",18,25)\n",
        "rhombus.area()\n",
        "print(\"==========================\")\n",
        "rectangle = Shape(\"Rectangle\",15,30)\n",
        "rectangle.area()\n",
        "print(\"==========================\")\n",
        "trapezium = Shape(\"Trapezium\",15,30)\n",
        "trapezium.area()\n",
        "\n"
      ],
      "metadata": {
        "id": "O5T7YuUGjX-6",
        "colab": {
          "base_uri": "https://localhost:8080/"
        },
        "outputId": "1a384a82-fd5e-465e-f906-08b345cf78ac"
      },
      "execution_count": null,
      "outputs": [
        {
          "output_type": "stream",
          "name": "stdout",
          "text": [
            "Area: 125.0\n",
            "==========================\n",
            "Area: 100\n",
            "==========================\n",
            "Area: 225.0\n",
            "==========================\n",
            "Area: 450\n",
            "==========================\n",
            "Shape unknown\n"
          ]
        }
      ]
    },
    {
      "cell_type": "code",
      "source": [
        "#task12\n",
        "\n"
      ],
      "metadata": {
        "id": "KlYOrS7WjYQq"
      },
      "execution_count": null,
      "outputs": []
    },
    {
      "cell_type": "code",
      "source": [
        "#task13\n",
        "class Programmer:\n",
        "    def __init__(self, name, language, exp):\n",
        "        self.name = name\n",
        "        self.language = language\n",
        "        self.exp = exp\n",
        "        self.flag = True\n",
        "\n",
        "    def addExp(self, additional_exp):\n",
        "        self.flag = False\n",
        "        print(f\"Updating experience of {self.name}\")\n",
        "        self.exp += additional_exp\n",
        "\n",
        "    def printDetails(self):\n",
        "        if self.flag:\n",
        "            print(\"Horray! A new programmer is born\")\n",
        "        print(f\"Name: {self.name}\")\n",
        "        print(f\"Language: {self.language}\")\n",
        "        print(f\"Experience: {self.exp} years\")\n",
        "\n",
        "p1 = Programmer(\"Ethen Hunt\", \"Java\", 10)\n",
        "p1.printDetails()\n",
        "print('--------------------------')\n",
        "p2 = Programmer(\"James Bond\", \"C++\", 7)\n",
        "p2.printDetails()\n",
        "print('--------------------------')\n",
        "p3 = Programmer(\"Jon Snow\", \"Python\", 4)\n",
        "p3.printDetails()\n",
        "p3.addExp(5)\n",
        "p3.printDetails()\n",
        "\n"
      ],
      "metadata": {
        "id": "iBu2-LcQjYh5",
        "colab": {
          "base_uri": "https://localhost:8080/"
        },
        "outputId": "b1c1b8cc-4f4b-43a3-eb70-a05859c685b5"
      },
      "execution_count": null,
      "outputs": [
        {
          "output_type": "stream",
          "name": "stdout",
          "text": [
            "Horray! A new programmer is born\n",
            "Name: Ethen Hunt\n",
            "Language: Java\n",
            "Experience: 10 years\n",
            "--------------------------\n",
            "Horray! A new programmer is born\n",
            "Name: James Bond\n",
            "Language: C++\n",
            "Experience: 7 years\n",
            "--------------------------\n",
            "Horray! A new programmer is born\n",
            "Name: Jon Snow\n",
            "Language: Python\n",
            "Experience: 4 years\n",
            "Updating experience of Jon Snow\n",
            "Name: Jon Snow\n",
            "Language: Python\n",
            "Experience: 9 years\n"
          ]
        }
      ]
    },
    {
      "cell_type": "code",
      "source": [
        "#tracing\n",
        "class Test3:\n",
        "    def __init__(self):\n",
        "        self.sum, self.y = 0, 0\n",
        "    def methodA(self):\n",
        "        x, y = 2, 3\n",
        "        msg = [0]\n",
        "        msg[0] = 3\n",
        "        y = self.y + msg[0]\n",
        "        self.methodB(msg, msg[0])\n",
        "        x = self.y + msg[0]\n",
        "        self.sum = x + y + msg[0]\n",
        "        print(x, y, self.sum)\n",
        "    def methodB(self, mg2, mg1):\n",
        "        x = 0\n",
        "        self.y = self.y + mg2[0]\n",
        "        x = x + 33 + mg1\n",
        "        self.sum = self.sum + x + self.y\n",
        "        mg2[0] = self.y + mg1\n",
        "        mg1 = mg1 + x + 2\n",
        "        print(x, self.y, self.sum)\n",
        "\n",
        "t3 = Test3()\n",
        "t3.methodA()\n",
        "t3.methodA()\n",
        "t3.methodA()\n",
        "t3.methodA()\n"
      ],
      "metadata": {
        "id": "hLtAoRpdjYvp",
        "colab": {
          "base_uri": "https://localhost:8080/"
        },
        "outputId": "fa72682f-6c0a-4009-b243-90d9baadbdec"
      },
      "execution_count": null,
      "outputs": [
        {
          "output_type": "stream",
          "name": "stdout",
          "text": [
            "36 3 39\n",
            "9 3 18\n",
            "36 6 60\n",
            "15 6 30\n",
            "36 9 75\n",
            "21 9 42\n",
            "36 12 90\n",
            "27 12 54\n"
          ]
        }
      ]
    }
  ]
}