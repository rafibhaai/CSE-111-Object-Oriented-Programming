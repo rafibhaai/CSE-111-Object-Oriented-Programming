{
  "nbformat": 4,
  "nbformat_minor": 0,
  "metadata": {
    "colab": {
      "provenance": []
    },
    "kernelspec": {
      "name": "python3",
      "display_name": "Python 3"
    },
    "language_info": {
      "name": "python"
    }
  },
  "cells": [
    {
      "cell_type": "code",
      "execution_count": null,
      "metadata": {
        "id": "3612Mwui8rJ-"
      },
      "outputs": [],
      "source": [
        "#Task01 STRING-------------------------------------------------------------------------------\n",
        "cap=\"\"\n",
        "small=\"\"\n",
        "var=\"\"\n",
        "string= input(\"Please Enter Your String :\")\n",
        "for item in string:\n",
        "    if \"A\"<= item <=\"Z\":\n",
        "        cap+= item\n",
        "    elif \"a\"<= item <= \"z\":\n",
        "        small+=item\n",
        "if len(small)<len(cap):\n",
        "    for i in string:\n",
        "        if \"A\"<=i<=\"Z\":\n",
        "            var+=i\n",
        "        elif \"a\"<=i<=\"z\":\n",
        "            var+=chr(ord(i)-32)\n",
        "elif len(small)>len(cap):\n",
        "    for i in string:\n",
        "        if \"A\"<=i<=\"Z\":\n",
        "            var+=chr(ord(i)+32)\n",
        "        elif \"a\"<=i<=\"z\":\n",
        "            var+=i\n",
        "print(var)"
      ]
    },
    {
      "cell_type": "code",
      "source": [
        "#Task02\n",
        "string= input(\"Please Enter Your String :\")\n",
        "counter1=0\n",
        "counter2=0\n",
        "var=\"\"\n",
        "for i in string:\n",
        "    if 48<=ord(i)<=52:\n",
        "            var=\"Number\"\n",
        "            counter1+=1\n",
        "    elif \"A\"<=i<=\"Z\" or \"a\"<=i<=\"z\":\n",
        "        var=\"Word\"\n",
        "        counter2+=1\n",
        "    elif counter1!=counter2:\n",
        "        var=\"Mixed\"\n",
        "print(var)"
      ],
      "metadata": {
        "id": "xypSxhQNZpYa"
      },
      "execution_count": null,
      "outputs": []
    },
    {
      "cell_type": "code",
      "source": [
        "#Task03\n",
        "string=input(\"Please Enter Your String :\")\n",
        "counter1=0\n",
        "counter2=0\n",
        "var=0\n",
        "for i in range(len(string)):\n",
        "    if 65<=ord(string[i])<=90:\n",
        "        if counter1==0:\n",
        "            counter1=i\n",
        "        else:\n",
        "            counter2=i\n",
        "print(string[counter1+1:counter2])\n",
        "\n",
        "\n"
      ],
      "metadata": {
        "id": "HDQx8eX1b-iD"
      },
      "execution_count": null,
      "outputs": []
    },
    {
      "cell_type": "code",
      "source": [
        "#TASK04\n",
        "s=input(\"Please Enter Your String :\")\n",
        "string=s.split(\",\")\n",
        "box=\"\"\n",
        "var1= string[0]\n",
        "var2= string[1]\n",
        "for i in var1:\n",
        "    if i in var2:\n",
        "        box+=i\n",
        "for i in var2:\n",
        "    if i in var1:\n",
        "        box+=i\n",
        "if box!=\"\":\n",
        "    print(box)\n",
        "else:\n",
        "    print(\"Nothing in common\")\n"
      ],
      "metadata": {
        "id": "t0xHHGKQ-Pqf"
      },
      "execution_count": null,
      "outputs": []
    },
    {
      "cell_type": "code",
      "source": [
        "#TASK01 LIST------------------------------------------------------------------\n",
        "list1=[]\n",
        "list2=[]\n",
        "while True:\n",
        "    string= input(\"Please Enter Your String :\")\n",
        "    if string ==\"STOP\":\n",
        "        break\n",
        "    else:\n",
        "        list1.append(int(string))\n",
        "    for i in list1:\n",
        "        if i not in list2:\n",
        "            list2.append(i)\n",
        "    for k in list2:\n",
        "        counter=0\n",
        "        for i in list1:\n",
        "            if k==i:\n",
        "                counter+=1\n",
        "        print(k,\"-\",counter,\"times\")\n",
        "\n"
      ],
      "metadata": {
        "id": "BSXv_EBYHV01"
      },
      "execution_count": null,
      "outputs": []
    },
    {
      "cell_type": "code",
      "source": [
        "#Task02\n",
        "round= int(input(\"Please Enter The Number You Want To Try :\"))\n",
        "mylist=[]\n",
        "counter=0\n",
        "for i in range(round):\n",
        "    string= input(\"Enter Your String :\").strip(\" \").split(\" \")\n",
        "    sum = 0\n",
        "    for k in range(len(string)):\n",
        "        value= int(string[k])\n",
        "        sum+=value\n",
        "    if sum>counter:\n",
        "        counter=sum\n",
        "        mylist=string\n",
        "print(counter)\n",
        "print(mylist)"
      ],
      "metadata": {
        "id": "A9DAqrVOANlT",
        "colab": {
          "base_uri": "https://localhost:8080/"
        },
        "outputId": "a0cd76e8-d97a-4c1a-f41b-7fbb452d8388"
      },
      "execution_count": null,
      "outputs": [
        {
          "output_type": "stream",
          "name": "stdout",
          "text": [
            "Please Enter The Number You Want To Try :2\n",
            "Enter Your String :40\n",
            "Enter Your String :56\n",
            "56\n",
            "['56']\n"
          ]
        }
      ]
    },
    {
      "cell_type": "code",
      "source": [
        "#Task03\n",
        "list1=input(\"Enter Your First String :\").split(\" \")\n",
        "list2=input(\"Enter Your Second String :\").split(\" \")\n",
        "multi=0\n",
        "mylist=[]\n",
        "for i in range(len(list1)):\n",
        "    for k in range(len(list2)):\n",
        "        multi=int(list1[i])*int(list2[k])\n",
        "        mylist.append(multi)\n",
        "print(mylist)"
      ],
      "metadata": {
        "id": "Hja1ZzOzpA7I"
      },
      "execution_count": null,
      "outputs": []
    },
    {
      "cell_type": "code",
      "source": [
        "#Task04\n",
        "mylist=[]\n",
        "while True:\n",
        "    string=input(\"Enter Your String :\")\n",
        "    if string==\"STOP\":\n",
        "        break\n",
        "    else:\n",
        "        mylist=string.split()\n",
        "        checker=int(mylist[0])\n",
        "        flag=True\n",
        "        for i in mylist:\n",
        "            if i== mylist[0]:\n",
        "                continue\n",
        "            else:\n",
        "                dif1=checker-int(i)\n",
        "                dif2=int(i)-checker\n",
        "                checker=int(i)\n",
        "                if dif1>len(mylist) or dif2>len(mylist):\n",
        "                    flag=False\n",
        "                    break\n",
        "                else:\n",
        "                    flag=True\n",
        "        if flag==True:\n",
        "            print(\"UbJumper\")\n",
        "        if flag==False:\n",
        "            print(\"NOTUbJumper\")"
      ],
      "metadata": {
        "id": "mCQl1ovVObjt"
      },
      "execution_count": null,
      "outputs": []
    },
    {
      "cell_type": "code",
      "source": [
        "#Task05\n",
        "string=input(\"Enter Your String :\")\n",
        "players=input(\"Enter Your Number of Players :\")\n",
        "checker=0\n",
        "for i in players:\n",
        "    if i==\" \":\n",
        "        continue\n",
        "    elif (int(i)+int(string[2]))>5:\n",
        "        continue\n",
        "    else:\n",
        "        checker+=1\n",
        "    value= checker//3\n",
        "print(value)"
      ],
      "metadata": {
        "id": "em8zvg9wSwuL"
      },
      "execution_count": null,
      "outputs": []
    },
    {
      "cell_type": "code",
      "source": [
        "#Task01 DICTIONARY-----------------------------------------------------------\n",
        "\n",
        "string1=input(\"Enter Your Firt String :\").split(\", \")\n",
        "mydict1={}\n",
        "mylist=[]\n",
        "for i in string1:\n",
        "    if \":\" in i:\n",
        "        var1= i.split(\":\")\n",
        "        mydict1[var1[0]]= int(var1[1])\n",
        "\n",
        "string2=input(\"Enter Your Second String :\").split(\", \")\n",
        "mydict2={}\n",
        "for j in string2:\n",
        "    if \":\" in j :\n",
        "        var2= j.split(\":\")\n",
        "        mydict2[var2[0]]= int(var2[1])\n",
        "\n",
        "mydict3={}\n",
        "for k,v in mydict2.items():\n",
        "    if k not in mydict1:\n",
        "        mydict1[k]=v\n",
        "    else:\n",
        "        mydict1[k]+=v\n",
        "print(mydict1)\n",
        "\n",
        "for i in mydict1.values():\n",
        "    mylist.append(i)\n",
        "print(\"Values :\",sorted(tuple(mylist)))"
      ],
      "metadata": {
        "colab": {
          "base_uri": "https://localhost:8080/"
        },
        "id": "uGc7-WlN1aZ_",
        "outputId": "d650b075-48a7-442b-fc39-c1467ef8cfdb"
      },
      "execution_count": null,
      "outputs": [
        {
          "output_type": "stream",
          "name": "stdout",
          "text": [
            "Enter Your Firt String :a: 100, b: 100, c: 200, d: 300\n",
            "Enter Your Second String :a: 300, b: 200, d: 400, e: 200\n",
            "{'a': 400, 'b': 300, 'c': 200, 'd': 700, 'e': 200}\n",
            "Values : [200, 200, 300, 400, 700]\n"
          ]
        }
      ]
    },
    {
      "cell_type": "code",
      "source": [
        "#Task02\n",
        "out= {}\n",
        "while True:\n",
        "    user= input()\n",
        "    if user== \"STOP\":\n",
        "        break\n",
        "    else:\n",
        "        if user not in out:\n",
        "            out[user]= 1\n",
        "        else:\n",
        "            out[user]+= 1\n",
        "\n",
        "for k,v in out.items():\n",
        "    print(k, \"-\", v, \"times\")"
      ],
      "metadata": {
        "id": "gHH5OLOcGQeR"
      },
      "execution_count": null,
      "outputs": []
    },
    {
      "cell_type": "code",
      "source": [
        "#TASK03\n",
        "string= input(\"Please Enter Your String :\").split(\", \")\n",
        "mydict1={}\n",
        "mydict2={}\n",
        "for i in string:\n",
        "    if \":\" in i:\n",
        "        mylist1= i.split(\" : \")\n",
        "        mydict1[mylist1[0]]=mylist1[1]\n",
        "for k,v in mydict1.items():\n",
        "    if v not in mydict2:\n",
        "        mydict2[v]= [k]\n",
        "    else:\n",
        "        mydict2[v].append(k)\n",
        "print(mydict2)"
      ],
      "metadata": {
        "colab": {
          "base_uri": "https://localhost:8080/"
        },
        "id": "o5wgEaYEQgcc",
        "outputId": "914b7ae0-530c-4cf8-b130-a2e1b95cb03b"
      },
      "execution_count": null,
      "outputs": [
        {
          "output_type": "stream",
          "name": "stdout",
          "text": [
            "Please Enter Your String :key1 : value1, key2 : value2, key3 : value1\n",
            "{'value1': ['key1', 'key3'], 'value2': ['key2']}\n"
          ]
        }
      ]
    },
    {
      "cell_type": "code",
      "source": [
        "#TASK04\n",
        "string=input(\"Please Enter Your String :\").upper()\n",
        "mylist = [\" \", \".,?!:\", \"ABC\", \"DEF\", \"GHI\", \"JKL\", \"MNO\", \"PQRS\", \"TUV\", \"WXYZ\"]\n",
        "result=\"\"\n",
        "for i in string:\n",
        "    counter=0\n",
        "    for j in mylist:\n",
        "        if i not in j :\n",
        "            counter+=1\n",
        "        else:\n",
        "            string=str(counter)\n",
        "            for k in j:\n",
        "                if i != k:\n",
        "                    string+=str(counter)\n",
        "                else:\n",
        "                    result+=string\n",
        "                    break\n",
        "print(result)\n"
      ],
      "metadata": {
        "colab": {
          "base_uri": "https://localhost:8080/"
        },
        "id": "ghvq5w6UcUlH",
        "outputId": "8a8946ff-d920-4f4e-e537-c350b0aad392"
      },
      "execution_count": null,
      "outputs": [
        {
          "output_type": "stream",
          "name": "stdout",
          "text": [
            "Please Enter Your String :Hello, World!\n",
            "4433555555666110966677755531111\n"
          ]
        }
      ]
    },
    {
      "cell_type": "code",
      "source": [
        "#Practice Problem 01\n",
        "mylist= ['Alice', 15000, 'Bob', 20000, 'Carol', 30000]\n",
        "newlist=[]\n",
        "for i in range(0,len(mylist),2):\n",
        "    name= mylist[i]\n",
        "    salary= (mylist[i+1])\n",
        "    tax= salary*0.05\n",
        "    newlist.append([name,salary,tax])\n",
        "print(newlist)\n"
      ],
      "metadata": {
        "colab": {
          "base_uri": "https://localhost:8080/"
        },
        "id": "mrRDPXJntA8G",
        "outputId": "42b0c904-9876-4b63-9769-21f86050c369"
      },
      "execution_count": null,
      "outputs": [
        {
          "output_type": "stream",
          "name": "stdout",
          "text": [
            "[['Alice', 15000, 750.0], ['Bob', 20000, 1000.0], ['Carol', 30000, 1500.0]]\n"
          ]
        }
      ]
    },
    {
      "cell_type": "code",
      "source": [
        "mylist= ['Alice', 15000, 'Bob', 20000, 'Carol', 30000]\n",
        "for i in range(0,len(mylist),2):\n",
        "    salary= (mylist[i+1])\n",
        "print(i)\n",
        "print(salary)"
      ],
      "metadata": {
        "colab": {
          "base_uri": "https://localhost:8080/",
          "height": 236
        },
        "id": "Syson3FpAhdX",
        "outputId": "b51d7464-44c5-498c-bdbb-29aff74536cb"
      },
      "execution_count": null,
      "outputs": [
        {
          "output_type": "error",
          "ename": "IndexError",
          "evalue": "ignored",
          "traceback": [
            "\u001b[0;31m---------------------------------------------------------------------------\u001b[0m",
            "\u001b[0;31mIndexError\u001b[0m                                Traceback (most recent call last)",
            "\u001b[0;32m<ipython-input-51-3ad4ec0a38c8>\u001b[0m in \u001b[0;36m<cell line: 2>\u001b[0;34m()\u001b[0m\n\u001b[1;32m      1\u001b[0m \u001b[0mmylist\u001b[0m\u001b[0;34m=\u001b[0m \u001b[0;34m[\u001b[0m\u001b[0;34m'Alice'\u001b[0m\u001b[0;34m,\u001b[0m \u001b[0;36m15000\u001b[0m\u001b[0;34m,\u001b[0m \u001b[0;34m'Bob'\u001b[0m\u001b[0;34m,\u001b[0m \u001b[0;36m20000\u001b[0m\u001b[0;34m,\u001b[0m \u001b[0;34m'Carol'\u001b[0m\u001b[0;34m,\u001b[0m \u001b[0;36m30000\u001b[0m\u001b[0;34m]\u001b[0m\u001b[0;34m\u001b[0m\u001b[0;34m\u001b[0m\u001b[0m\n\u001b[1;32m      2\u001b[0m \u001b[0;32mfor\u001b[0m \u001b[0mi\u001b[0m \u001b[0;32min\u001b[0m \u001b[0mrange\u001b[0m\u001b[0;34m(\u001b[0m\u001b[0;36m0\u001b[0m\u001b[0;34m,\u001b[0m\u001b[0mlen\u001b[0m\u001b[0;34m(\u001b[0m\u001b[0mmylist\u001b[0m\u001b[0;34m)\u001b[0m\u001b[0;34m)\u001b[0m\u001b[0;34m:\u001b[0m\u001b[0;34m\u001b[0m\u001b[0;34m\u001b[0m\u001b[0m\n\u001b[0;32m----> 3\u001b[0;31m     \u001b[0msalary\u001b[0m\u001b[0;34m=\u001b[0m \u001b[0;34m(\u001b[0m\u001b[0mmylist\u001b[0m\u001b[0;34m[\u001b[0m\u001b[0mi\u001b[0m\u001b[0;34m+\u001b[0m\u001b[0;36m1\u001b[0m\u001b[0;34m]\u001b[0m\u001b[0;34m)\u001b[0m\u001b[0;34m\u001b[0m\u001b[0;34m\u001b[0m\u001b[0m\n\u001b[0m\u001b[1;32m      4\u001b[0m \u001b[0mprint\u001b[0m\u001b[0;34m(\u001b[0m\u001b[0mi\u001b[0m\u001b[0;34m)\u001b[0m\u001b[0;34m\u001b[0m\u001b[0;34m\u001b[0m\u001b[0m\n\u001b[1;32m      5\u001b[0m \u001b[0mprint\u001b[0m\u001b[0;34m(\u001b[0m\u001b[0msalary\u001b[0m\u001b[0;34m)\u001b[0m\u001b[0;34m\u001b[0m\u001b[0;34m\u001b[0m\u001b[0m\n",
            "\u001b[0;31mIndexError\u001b[0m: list index out of range"
          ]
        }
      ]
    },
    {
      "cell_type": "code",
      "source": [
        "x=[0,1,2,3,4,5,6,7,8,9]\n",
        "for i in range(0,len(x),2):\n",
        "    print(x[i])"
      ],
      "metadata": {
        "colab": {
          "base_uri": "https://localhost:8080/"
        },
        "id": "cgoo4ADNB4sm",
        "outputId": "b380e4a4-a222-428a-b4f5-fe8caf18087b"
      },
      "execution_count": null,
      "outputs": [
        {
          "output_type": "stream",
          "name": "stdout",
          "text": [
            "0\n",
            "2\n",
            "4\n",
            "6\n",
            "8\n"
          ]
        }
      ]
    },
    {
      "cell_type": "code",
      "source": [
        "#Practice Problem 02\n",
        "given_mylist =['ab', 'abc', 'ab', 'cd', 'ab', 'cd']\n",
        "given_query_list = ['ab', 'cd', 'bc']\n",
        "newlist=[]\n",
        "for i in given_query_list:\n",
        "    count= given_mylist.count(i)\n",
        "    newlist.append(count)\n",
        "print(newlist)"
      ],
      "metadata": {
        "colab": {
          "base_uri": "https://localhost:8080/"
        },
        "id": "YsJoodecD2Vi",
        "outputId": "9d498911-ed30-4b05-c865-a6554fc97117"
      },
      "execution_count": null,
      "outputs": [
        {
          "output_type": "stream",
          "name": "stdout",
          "text": [
            "[3, 2, 0]\n"
          ]
        }
      ]
    },
    {
      "cell_type": "code",
      "source": [
        "#Practice Problem 02 Another Way\n",
        "given_mylist =['ab', 'abc', 'ab', 'cd', 'ab', 'cd']\n",
        "given_query_list = ['ab', 'cd', 'bc']\n",
        "newlist5=[]\n",
        "for i in given_query_list:\n",
        "    counter=0\n",
        "    for j in given_mylist:\n",
        "        if i==j:\n",
        "            counter+=1\n",
        "    newlist5.append(counter)\n",
        "print(newlist5)"
      ],
      "metadata": {
        "colab": {
          "base_uri": "https://localhost:8080/"
        },
        "id": "66WfFX92IAGD",
        "outputId": "3661c5f8-222a-40b3-db84-75328ec8bfb9"
      },
      "execution_count": null,
      "outputs": [
        {
          "output_type": "stream",
          "name": "stdout",
          "text": [
            "[3, 2, 0]\n"
          ]
        }
      ]
    },
    {
      "cell_type": "code",
      "source": [
        "#Practice Problem 03\n",
        "\n",
        "given_string = \"tom@gmail.com, harry@g.bracu.ac.bd, lisa@g.bracu.ac.bd, abc@bracu.ac.bd, xyz@bracu.ac.bd\"\n",
        "string= given_string.split(\", \")\n",
        "mydict={}\n",
        "for i in string:\n",
        "    name,domain= i.split(\"@\")\n",
        "    domain_name= domain.split(\".\")[0]\n",
        "\n",
        "    if domain_name not in mydict:\n",
        "        mydict[domain_name]=[]\n",
        "\n",
        "    mydict[domain_name].append(name)\n",
        "print(mydict)\n"
      ],
      "metadata": {
        "id": "mpprtL3AMAMY",
        "colab": {
          "base_uri": "https://localhost:8080/"
        },
        "outputId": "fcf79228-f968-4f73-be3a-bcd285bc18c5"
      },
      "execution_count": null,
      "outputs": [
        {
          "output_type": "stream",
          "name": "stdout",
          "text": [
            "{'gmail': ['tom'], 'g': ['harry', 'lisa'], 'bracu': ['abc', 'xyz']}\n"
          ]
        }
      ]
    },
    {
      "cell_type": "code",
      "source": [
        "x =\t\"gmail.com\"\n",
        "name= x.split(\".\")[0]\n",
        "print(name)"
      ],
      "metadata": {
        "colab": {
          "base_uri": "https://localhost:8080/"
        },
        "id": "d-dkD6NBSnpA",
        "outputId": "e96b4af5-7177-4268-902d-b7e56c4020fd"
      },
      "execution_count": null,
      "outputs": [
        {
          "output_type": "stream",
          "name": "stdout",
          "text": [
            "gmail\n"
          ]
        }
      ]
    }
  ]
}